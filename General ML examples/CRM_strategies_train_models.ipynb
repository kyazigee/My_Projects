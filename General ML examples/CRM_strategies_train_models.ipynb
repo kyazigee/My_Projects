{
 "cells": [
  {
   "cell_type": "markdown",
   "id": "0d961bc4",
   "metadata": {},
   "source": [
    "# Used Hardware"
   ]
  },
  {
   "cell_type": "markdown",
   "id": "59091980",
   "metadata": {},
   "source": [
    "**CPU :  AMD Ryzen 9 3950X 16 Cores /32 threads @ 3.3GHZ.**\n",
    "\n",
    "**RAM : 2x32GB DDR4 @ 2667 MHz in dual channel mode.**\n",
    "\n",
    "**All reported run times (especially HyperParameter tuning) are based on this HW configuration.**"
   ]
  },
  {
   "cell_type": "markdown",
   "id": "7108ff02",
   "metadata": {},
   "source": [
    "# Installed packages and their versions (usefull for Docker )"
   ]
  },
  {
   "cell_type": "code",
   "execution_count": 1,
   "id": "551efe9d",
   "metadata": {
    "ExecuteTime": {
     "end_time": "2022-03-14T11:21:58.057430Z",
     "start_time": "2022-03-14T11:21:57.155362Z"
    }
   },
   "outputs": [
    {
     "name": "stdout",
     "output_type": "stream",
     "text": [
      "Package                            Version\n",
      "---------------------------------- -------------------\n",
      "alabaster                          0.7.12\n",
      "alembic                            1.7.4\n",
      "anaconda-client                    1.7.2\n",
      "anaconda-navigator                 2.0.3\n",
      "anaconda-project                   0.9.1\n",
      "anyio                              2.2.0\n",
      "appdirs                            1.4.4\n",
      "argh                               0.26.2\n",
      "argon2-cffi                        20.1.0\n",
      "asn1crypto                         1.4.0\n",
      "astroid                            2.5\n",
      "astropy                            4.2.1\n",
      "async-generator                    1.10\n",
      "atomicwrites                       1.4.0\n",
      "attrs                              20.3.0\n",
      "autopage                           0.4.0\n",
      "autopep8                           1.5.6\n",
      "Babel                              2.9.0\n",
      "backcall                           0.2.0\n",
      "backports.functools-lru-cache      1.6.4\n",
      "backports.shutil-get-terminal-size 1.0.0\n",
      "backports.tempfile                 1.0\n",
      "backports.weakref                  1.0.post1\n",
      "bcrypt                             3.2.0\n",
      "beautifulsoup4                     4.9.3\n",
      "bitarray                           1.9.2\n",
      "bkcharts                           0.2\n",
      "black                              19.10b0\n",
      "bleach                             3.3.0\n",
      "bokeh                              2.3.2\n",
      "boto                               2.49.0\n",
      "Bottleneck                         1.3.2\n",
      "Brotli                             1.0.9\n",
      "brotlipy                           0.7.0\n",
      "certifi                            2020.12.5\n",
      "cffi                               1.14.5\n",
      "chardet                            4.0.0\n",
      "click                              7.1.2\n",
      "cliff                              3.9.0\n",
      "cloudpickle                        1.6.0\n",
      "clyent                             1.2.2\n",
      "cmaes                              0.8.2\n",
      "cmd2                               2.2.0\n",
      "colorama                           0.4.4\n",
      "colorlog                           6.5.0\n",
      "comtypes                           1.1.9\n",
      "conda                              4.10.3\n",
      "conda-build                        3.21.4\n",
      "conda-content-trust                0+unknown\n",
      "conda-package-handling             1.7.3\n",
      "conda-repo-cli                     1.0.4\n",
      "conda-token                        0.3.0\n",
      "conda-verify                       3.4.2\n",
      "contextlib2                        0.6.0.post1\n",
      "cryptography                       3.4.7\n",
      "cx-Oracle                          8.2.1\n",
      "cycler                             0.10.0\n",
      "Cython                             0.29.23\n",
      "cytoolz                            0.11.0\n",
      "dash                               1.12.0\n",
      "dash-core-components               1.10.0\n",
      "dash-html-components               1.0.3\n",
      "dash-renderer                      1.4.1\n",
      "dash-table                         4.7.0\n",
      "dask                               2021.4.0\n",
      "decorator                          5.0.6\n",
      "defusedxml                         0.7.1\n",
      "diff-match-patch                   20200713\n",
      "distributed                        2021.4.0\n",
      "docutils                           0.17\n",
      "entrypoints                        0.3\n",
      "et-xmlfile                         1.0.1\n",
      "fastcache                          1.1.0\n",
      "filelock                           3.0.12\n",
      "flake8                             3.9.0\n",
      "Flask                              1.1.2\n",
      "Flask-Compress                     1.10.1\n",
      "fsspec                             0.9.0\n",
      "future                             0.18.2\n",
      "gevent                             21.1.2\n",
      "glob2                              0.7\n",
      "graphviz                           0.19\n",
      "greenlet                           1.0.0\n",
      "h5py                               2.10.0\n",
      "HeapDict                           1.0.1\n",
      "html5lib                           1.1\n",
      "hyperopt                           0.2.5\n",
      "idna                               2.10\n",
      "imagecodecs                        2021.3.31\n",
      "imageio                            2.9.0\n",
      "imagesize                          1.2.0\n",
      "importlib-metadata                 3.10.0\n",
      "importlib-resources                5.2.2\n",
      "iniconfig                          1.1.1\n",
      "intervaltree                       3.1.0\n",
      "ipykernel                          5.3.4\n",
      "ipython                            7.22.0\n",
      "ipython-genutils                   0.2.0\n",
      "ipywidgets                         7.6.3\n",
      "isort                              5.8.0\n",
      "itsdangerous                       1.1.0\n",
      "jdcal                              1.4.1\n",
      "jedi                               0.17.2\n",
      "Jinja2                             2.11.3\n",
      "joblib                             1.0.1\n",
      "json5                              0.9.5\n",
      "jsonschema                         3.2.0\n",
      "jupyter                            1.0.0\n",
      "jupyter-client                     6.1.12\n",
      "jupyter-console                    6.4.0\n",
      "jupyter-contrib-core               0.3.3\n",
      "jupyter-contrib-nbextensions       0.5.1\n",
      "jupyter-core                       4.7.1\n",
      "jupyter-highlight-selected-word    0.2.0\n",
      "jupyter-latex-envs                 1.4.6\n",
      "jupyter-nbextensions-configurator  0.4.1\n",
      "jupyter-packaging                  0.7.12\n",
      "jupyter-server                     1.4.1\n",
      "jupyterlab                         3.0.14\n",
      "jupyterlab-pygments                0.1.2\n",
      "jupyterlab-server                  2.4.0\n",
      "jupyterlab-widgets                 1.0.0\n",
      "keyring                            22.3.0\n",
      "kiwisolver                         1.3.1\n",
      "lazy-object-proxy                  1.6.0\n",
      "libarchive-c                       2.9\n",
      "lightgbm                           3.2.1\n",
      "llvmlite                           0.36.0\n",
      "locket                             0.2.1\n",
      "lxml                               4.6.3\n",
      "Mako                               1.1.5\n",
      "MarkupSafe                         1.1.1\n",
      "matplotlib                         3.3.4\n",
      "mccabe                             0.6.1\n",
      "menuinst                           1.4.16\n",
      "mistune                            0.8.4\n",
      "mkl-fft                            1.3.0\n",
      "mkl-random                         1.2.1\n",
      "mkl-service                        2.3.0\n",
      "mock                               4.0.3\n",
      "more-itertools                     8.7.0\n",
      "mpmath                             1.2.1\n",
      "msgpack                            1.0.2\n",
      "multipledispatch                   0.6.0\n",
      "mypy-extensions                    0.4.3\n",
      "navigator-updater                  0.2.1\n",
      "nbclassic                          0.2.6\n",
      "nbclient                           0.5.3\n",
      "nbconvert                          6.0.7\n",
      "nbformat                           5.1.3\n",
      "nest-asyncio                       1.5.1\n",
      "networkx                           2.5\n",
      "nltk                               3.6.1\n",
      "nose                               1.3.7\n",
      "notebook                           6.3.0\n",
      "numba                              0.53.1\n",
      "numexpr                            2.7.3\n",
      "numpy                              1.20.1\n",
      "numpydoc                           1.1.0\n",
      "olefile                            0.46\n",
      "openpyxl                           3.0.7\n",
      "optuna                             2.10.0\n",
      "packaging                          20.9\n",
      "pandas                             1.2.4\n",
      "pandasql                           0.7.3\n",
      "pandocfilters                      1.4.3\n",
      "paramiko                           2.7.2\n",
      "parso                              0.7.0\n",
      "partd                              1.2.0\n",
      "path                               15.1.2\n",
      "pathlib2                           2.3.5\n",
      "pathspec                           0.7.0\n",
      "patsy                              0.5.1\n",
      "pbr                                5.6.0\n",
      "pep8                               1.7.1\n",
      "pexpect                            4.8.0\n",
      "pickleshare                        0.7.5\n",
      "Pillow                             8.2.0\n",
      "pip                                21.0.1\n",
      "pkginfo                            1.7.0\n",
      "plotly                             5.1.0\n",
      "pluggy                             0.13.1\n",
      "ply                                3.11\n",
      "pprintpp                           0.4.0\n",
      "prettytable                        2.2.1\n",
      "prometheus-client                  0.10.1\n",
      "prompt-toolkit                     3.0.17\n",
      "psutil                             5.8.0\n",
      "ptyprocess                         0.7.0\n",
      "py                                 1.10.0\n",
      "pycodestyle                        2.6.0\n",
      "pycosat                            0.6.3\n",
      "pycparser                          2.20\n",
      "pycurl                             7.43.0.6\n",
      "pydocstyle                         6.0.0\n",
      "pyerfa                             1.7.3\n",
      "pyflakes                           2.2.0\n",
      "Pygments                           2.8.1\n",
      "pylint                             2.7.4\n",
      "pyls-black                         0.4.6\n",
      "pyls-spyder                        0.3.2\n",
      "pymongo                            3.12.0\n",
      "PyNaCl                             1.4.0\n",
      "pyodbc                             4.0.0-unsupported\n",
      "pyOpenSSL                          20.0.1\n",
      "pyparsing                          2.4.7\n",
      "pyperclip                          1.8.2\n",
      "pyreadline                         2.1\n",
      "pyreadline3                        3.3\n",
      "pyrsistent                         0.17.3\n",
      "PySocks                            1.7.1\n",
      "pytest                             6.2.3\n",
      "python-dateutil                    2.8.1\n",
      "python-docx                        0.8.11\n",
      "python-jsonrpc-server              0.4.0\n",
      "python-language-server             0.36.2\n",
      "pytz                               2021.1\n",
      "PyWavelets                         1.1.1\n",
      "pywin32                            227\n",
      "pywin32-ctypes                     0.2.0\n",
      "pywinpty                           0.5.7\n",
      "PyYAML                             5.4.1\n",
      "pyzmq                              20.0.0\n",
      "QDarkStyle                         2.8.1\n",
      "qgrid                              1.3.1\n",
      "QtAwesome                          1.0.2\n",
      "qtconsole                          5.0.3\n",
      "QtPy                               1.9.0\n",
      "regex                              2021.4.4\n",
      "requests                           2.25.1\n",
      "rope                               0.18.0\n",
      "Rtree                              0.9.7\n",
      "ruamel-yaml-conda                  0.15.100\n",
      "scikit-image                       0.18.1\n",
      "scikit-learn                       0.24.1\n",
      "scipy                              1.6.2\n",
      "seaborn                            0.11.1\n",
      "Send2Trash                         1.5.0\n",
      "setuptools                         52.0.0.post20210125\n",
      "shap                               0.39.0\n",
      "simplegeneric                      0.8.1\n",
      "singledispatch                     0.0.0\n",
      "sip                                4.19.13\n",
      "six                                1.15.0\n",
      "slicer                             0.0.7\n",
      "sniffio                            1.2.0\n",
      "snowballstemmer                    2.1.0\n",
      "sortedcollections                  2.1.0\n",
      "sortedcontainers                   2.3.0\n",
      "soupsieve                          2.2.1\n",
      "Sphinx                             4.0.1\n",
      "sphinxcontrib-applehelp            1.0.2\n",
      "sphinxcontrib-devhelp              1.0.2\n",
      "sphinxcontrib-htmlhelp             1.0.3\n",
      "sphinxcontrib-jsmath               1.0.1\n",
      "sphinxcontrib-qthelp               1.0.3\n",
      "sphinxcontrib-serializinghtml      1.1.4\n",
      "sphinxcontrib-websupport           1.2.4\n",
      "spyder                             4.2.5\n",
      "spyder-kernels                     1.10.2\n",
      "SQLAlchemy                         1.4.7\n",
      "statsmodels                        0.12.2\n",
      "stevedore                          3.4.0\n",
      "sympy                              1.8\n",
      "tables                             3.6.1\n",
      "tblib                              1.7.0\n",
      "tenacity                           8.0.1\n",
      "terminado                          0.9.4\n",
      "testpath                           0.4.4\n",
      "textdistance                       4.2.1\n",
      "threadpoolctl                      2.1.0\n",
      "three-merge                        0.1.1\n",
      "tifffile                           2021.4.8\n",
      "toml                               0.10.2\n",
      "toolz                              0.11.1\n",
      "tornado                            6.1\n",
      "tqdm                               4.59.0\n",
      "traitlets                          5.0.5\n",
      "typed-ast                          1.4.2\n",
      "typing-extensions                  3.7.4.3\n",
      "ujson                              4.0.2\n",
      "unicodecsv                         0.14.1\n",
      "urllib3                            1.26.4\n",
      "watchdog                           1.0.2\n",
      "wcwidth                            0.2.5\n",
      "webencodings                       0.5.1\n",
      "Werkzeug                           1.0.1\n",
      "wheel                              0.36.2\n",
      "widgetsnbextension                 3.5.1\n",
      "win-inet-pton                      1.1.0\n",
      "win-unicode-console                0.5\n",
      "wincertstore                       0.2\n",
      "wrapt                              1.12.1\n",
      "xgboost                            1.4.2\n",
      "xlrd                               2.0.1\n",
      "XlsxWriter                         1.3.8\n",
      "xlwings                            0.23.0\n",
      "xlwt                               1.3.0\n",
      "xmltodict                          0.12.0\n",
      "yapf                               0.31.0\n",
      "zict                               2.0.0\n",
      "zipp                               3.4.1\n",
      "zope.event                         4.5.0\n",
      "zope.interface                     5.3.0\n"
     ]
    }
   ],
   "source": [
    "! pip list"
   ]
  },
  {
   "cell_type": "code",
   "execution_count": 2,
   "id": "b6cf6673",
   "metadata": {
    "ExecuteTime": {
     "end_time": "2022-03-14T11:22:00.505719Z",
     "start_time": "2022-03-14T11:21:58.058431Z"
    }
   },
   "outputs": [
    {
     "name": "stdout",
     "output_type": "stream",
     "text": [
      "C:\\Users\\kyazi\\anaconda3\\python.exe\n",
      "3.8.8 (default, Apr 13 2021, 15:08:03) [MSC v.1916 64 bit (AMD64)]\n",
      "sys.version_info(major=3, minor=8, micro=8, releaselevel='final', serial=0)\n",
      "numpy 1.20.1\n",
      "pandas 1.2.4\n",
      "json 2.0.9\n",
      "pickle 4.0\n",
      "lightgbm 3.2.1\n",
      "optuna 2.10.0\n"
     ]
    }
   ],
   "source": [
    "import sys\n",
    "print(sys.executable)\n",
    "print(sys.version)\n",
    "print(sys.version_info)\n",
    "import os\n",
    "import warnings\n",
    "import datetime\n",
    "import time\n",
    "import math\n",
    "import operator\n",
    "import random\n",
    "import gc\n",
    "import numpy as np\n",
    "print ('numpy', np.__version__)\n",
    "import pandas as pd\n",
    "print ('pandas', pd.__version__)\n",
    "import pandasql as ps\n",
    "\n",
    "from dateutil import relativedelta\n",
    "\n",
    "import matplotlib\n",
    "import matplotlib.pyplot as plt\n",
    "from matplotlib.ticker import FuncFormatter\n",
    "from matplotlib import gridspec\n",
    "\n",
    "import seaborn as sns\n",
    "from sklearn import metrics\n",
    "from sklearn.metrics import roc_auc_score\n",
    "from sklearn.model_selection import  train_test_split\n",
    "from ipywidgets import FloatProgress\n",
    "\n",
    "import json\n",
    "print('json', json.__version__)\n",
    "import warnings\n",
    "import qgrid\n",
    "import pickle\n",
    "print ('pickle', pickle.format_version)\n",
    "import shap as shap\n",
    "\n",
    "import lightgbm as lgb\n",
    "print ('lightgbm', lgb.__version__)\n",
    "\n",
    "import optuna as optuna\n",
    "print('optuna', optuna.__version__)  \n",
    "import optuna.integration.lightgbm as lgbm_integration\n"
   ]
  },
  {
   "cell_type": "markdown",
   "id": "2a7007b2",
   "metadata": {},
   "source": [
    "# Define paths "
   ]
  },
  {
   "cell_type": "markdown",
   "id": "16029fd7",
   "metadata": {},
   "source": [
    "**The below assumes that this Jupyter notebook is opened directly from the \"JupuyterNotebooks\" directory**\n",
    "\n",
    "**Besides this directory, there are three other directories \"Data\", \"Objects\" and \"Reults\"**\n",
    "\n",
    "**All these four directories should be same-level directories under a common root directory**\n",
    "\n",
    "**The location of the root directory itself is not important**"
   ]
  },
  {
   "cell_type": "code",
   "execution_count": 3,
   "id": "9636c39d",
   "metadata": {
    "ExecuteTime": {
     "end_time": "2022-03-14T11:22:00.521740Z",
     "start_time": "2022-03-14T11:22:00.506734Z"
    }
   },
   "outputs": [],
   "source": [
    "root_directory = os.path.dirname(os.getcwd())\n",
    "PATH_DATA = root_directory + '\\\\Data\\\\'\n",
    "PATH_OBJECTS = root_directory + '\\\\Objects\\\\'\n",
    "PATH_RESULTS = root_directory + '\\\\Results\\\\'"
   ]
  },
  {
   "cell_type": "markdown",
   "id": "18ac007b",
   "metadata": {},
   "source": [
    "# Load Data #"
   ]
  },
  {
   "cell_type": "code",
   "execution_count": 4,
   "id": "44d6f55e",
   "metadata": {
    "ExecuteTime": {
     "end_time": "2022-03-14T11:23:19.204779Z",
     "start_time": "2022-03-14T11:22:00.522741Z"
    }
   },
   "outputs": [
    {
     "data": {
      "text/plain": [
       "(2596307, 205)"
      ]
     },
     "metadata": {},
     "output_type": "display_data"
    },
    {
     "data": {
      "text/plain": [
       "0    2589360\n",
       "1       5072\n",
       "2       1875\n",
       "Name: target, dtype: int64"
      ]
     },
     "metadata": {},
     "output_type": "display_data"
    }
   ],
   "source": [
    "MISSING_VALUES = ['-','.']\n",
    "DATES = []\n",
    "_unicode = {}\n",
    "dataset = 'cashcard_sample2'\n",
    "data = pd.read_csv(PATH_DATA + dataset + \".csv\", encoding = 'utf-8', na_values = MISSING_VALUES, thousands = ',', sep = ',' \n",
    "                  ,  dayfirst = True, parse_dates = DATES,  dtype= _unicode )\n",
    "\n",
    "#mask = data['CA_F_CASH_CARD_TG_CG'] == 'CG'\n",
    "#data = data[mask]\n",
    "#data = data.reset_index(drop = True)\n",
    "\n",
    "\n",
    "def target_code(row):\n",
    "    c = 0  # corresponds to 'no response'\n",
    "    if row['FLAG_CLX_SIGNED_30D'] == 1:\n",
    "        c = 1\n",
    "    if row['CC_F_USE_30D'] == 1:\n",
    "        c = 2\n",
    "    return c\n",
    "\n",
    "\n",
    "def To_Date(dt, dtime_input_format):\n",
    "    \n",
    "    if pd.isnull(dt):\n",
    "        return np.datetime64('NaT')  #! it is key to have this and not np.NaN\n",
    "    else: \n",
    "        dt = dt[:10]   \n",
    "        dt = datetime.datetime.strptime( dt, dtime_input_format )\n",
    "        if dt.year > 2021:  # <--in implementation, replace with datetime.date.today().year\n",
    "            dt = dt.replace( year=dt.year-100 )\n",
    "        return dt\n",
    "    \n",
    "        \n",
    "data['target'] = data.apply(lambda row: target_code(row), axis =1)   \n",
    "data['omni'] = 1\n",
    "data['WT'] = 1\n",
    "\n",
    "data['REPORT_DATE'] = data['REPORT_DATE'].apply(lambda x : To_Date(x, '%d/%m/%Y'))\n",
    "data['month'] = data['REPORT_DATE'].dt.month\n",
    "\n",
    "display(data.shape)\n",
    "display(data['target'].value_counts())"
   ]
  },
  {
   "cell_type": "markdown",
   "id": "2fe0583c",
   "metadata": {},
   "source": [
    "## Meta Data"
   ]
  },
  {
   "cell_type": "code",
   "execution_count": 5,
   "id": "6827fc4a",
   "metadata": {
    "ExecuteTime": {
     "end_time": "2022-03-14T11:23:19.220396Z",
     "start_time": "2022-03-14T11:23:19.205780Z"
    }
   },
   "outputs": [],
   "source": [
    "col_target  = 'target'\n",
    "col_month = 'month'\n",
    "col_campaign = 'CA_TYPE'\n",
    "col_weight = 'WT'"
   ]
  },
  {
   "cell_type": "markdown",
   "id": "4c9d9372",
   "metadata": {},
   "source": [
    "## Split predictors into numeric and categorical"
   ]
  },
  {
   "cell_type": "code",
   "execution_count": 6,
   "id": "c4e13bfe",
   "metadata": {
    "ExecuteTime": {
     "end_time": "2022-03-14T11:23:21.831023Z",
     "start_time": "2022-03-14T11:23:19.221397Z"
    }
   },
   "outputs": [
    {
     "name": "stdout",
     "output_type": "stream",
     "text": [
      "# predictors : 191\n",
      "# numerical predictors : 175\n",
      "# categorical predictors : 16\n"
     ]
    }
   ],
   "source": [
    "technical =   ['ID_CUID','RUN_DATE','CA_START_DT','REPORT_DATE','CA_F_CASH_CARD_TG_CG','APL_F_SIGN']\n",
    "technical +=  [col_target,  col_month, col_weight, 'omni'] + ['CC_F_USE_30D', 'FLAG_CLX_SIGNED_30D' ] + ['CA_TYPE']\n",
    "technical += ['SOC_LAST_APL']\n",
    "\n",
    "predictors  = [col for col in data.columns if col not in technical]\n",
    "predictors = sorted(predictors)\n",
    "\n",
    "column_types = list(zip(data[predictors].columns,data[predictors].dtypes))\n",
    "\n",
    "cols_pred_cat = [col_name for col_name,dtype in column_types if dtype.name == 'category'\\\n",
    "                 or dtype.name == 'object' or dtype.name == 'bool']\n",
    "\n",
    "cols_pred_num = [col_name for col_name,dtype in column_types if ('float' in dtype.name) or ('int' in dtype.name)]\n",
    "\n",
    "cheksum = len(predictors) - len(cols_pred_cat) - len(cols_pred_num)\n",
    "\n",
    "if cheksum != 0:\n",
    "    raise ValueError(\"categorical and numerical predictors do not add up to total number of predictor columns\")\n",
    "\n",
    "print('# predictors :', len(predictors))\n",
    "print('# numerical predictors :', len(cols_pred_num))\n",
    "print('# categorical predictors :', len(cols_pred_cat))"
   ]
  },
  {
   "cell_type": "markdown",
   "id": "bd88b440",
   "metadata": {},
   "source": [
    "## Remove categorical predictors with high cardinality"
   ]
  },
  {
   "cell_type": "markdown",
   "id": "48eaf2af",
   "metadata": {
    "ExecuteTime": {
     "end_time": "2022-03-14T12:25:27.391080Z",
     "start_time": "2022-03-14T12:25:27.376314Z"
    }
   },
   "source": [
    "**High cardinality categorical features can mess up the tree growth as each such feature will have a higher propbabilty for being selected for a spurious split simply due to sheer number of its level, thus creating trees that too-dependent on such unstable featurees.** \n",
    "\n",
    "**Another option will be to target-encode each of these predictors, x, by using a simple, cross-validated tree model to create a robust x_SCORE version of x. This will however require more complex implementation since we will have to store, load and implement a separate model for each such variable.**\n",
    "\n",
    "**Moreover, it will require to reserve a chunck of data for this, reducing the amount of train data available for subsequent modelling and since the number of target classes 1 (Cash) and 2 (Card) is small already, this will not be feasible here**\n"
   ]
  },
  {
   "cell_type": "code",
   "execution_count": 7,
   "id": "f7537672",
   "metadata": {
    "ExecuteTime": {
     "end_time": "2022-03-14T11:23:26.350495Z",
     "start_time": "2022-03-14T11:23:21.831023Z"
    }
   },
   "outputs": [
    {
     "name": "stdout",
     "output_type": "stream",
     "text": [
      "removed due to high cardinality level : ['CA_OFFER_TYPE_CODE', 'CA_PROD_PRI_GR', 'SOC_CLI_CONTACT_REGION']\n",
      "# predictors : 188\n",
      "# numerical predictors : 175\n",
      "# categorical predictors : 13\n"
     ]
    }
   ],
   "source": [
    "descrip_cat = data[cols_pred_cat].describe(include='all').transpose()\n",
    "mask = descrip_cat['unique'] > 20\n",
    "remove_cat = list(descrip_cat[mask].index)\n",
    "\n",
    "cols_pred_cat = [pred for pred in cols_pred_cat if pred not in remove_cat]\n",
    "\n",
    "predictors = cols_pred_num + cols_pred_cat\n",
    "predictors = sorted(predictors)\n",
    "\n",
    "print('removed due to high cardinality level :', remove_cat)\n",
    "print('# predictors :', len(predictors))\n",
    "print('# numerical predictors :', len(cols_pred_num))\n",
    "print('# categorical predictors :', len(cols_pred_cat))"
   ]
  },
  {
   "cell_type": "markdown",
   "id": "115b4e6d",
   "metadata": {},
   "source": [
    "## Remove predictors with low fill rate"
   ]
  },
  {
   "cell_type": "code",
   "execution_count": 8,
   "id": "aa2d72e9",
   "metadata": {
    "ExecuteTime": {
     "end_time": "2022-03-14T11:25:44.136126Z",
     "start_time": "2022-03-14T11:23:26.351496Z"
    }
   },
   "outputs": [
    {
     "data": {
      "application/vnd.jupyter.widget-view+json": {
       "model_id": "282687dc743c4f14976f0207ea22b1c0",
       "version_major": 2,
       "version_minor": 0
      },
      "text/plain": [
       "FloatProgress(value=0.0, description='Progress:', max=188.0)"
      ]
     },
     "metadata": {},
     "output_type": "display_data"
    },
    {
     "name": "stdout",
     "output_type": "stream",
     "text": [
      "# removed due to low fill rate : 42\n",
      "# predictors : 146\n",
      "# numerical predictors : 133\n",
      "# categorical predictors : 13\n"
     ]
    }
   ],
   "source": [
    "_threshould = 0.95\n",
    "\n",
    "f = FloatProgress(description='Progress:', min = 0, max =len(predictors))\n",
    "display(f)\n",
    "\n",
    "MIS = {}\n",
    "for col in predictors:\n",
    "    m = 1.0*data.loc[pd.isnull(data[col])].shape[0]/data.shape[0]\n",
    "    MIS[col] = m\n",
    "    f.value += 1 \n",
    "    \n",
    "sort = sorted(MIS.items(), key = lambda x : x[1], reverse = True)\n",
    "\n",
    "FILLRATES = pd.DataFrame(sort)\n",
    "FILLRATES.rename(columns = {0 :'variable', 1:'missing_rate'}, inplace = True)\n",
    "\n",
    "mask = FILLRATES['missing_rate'] >= _threshould\n",
    "dropped_variables = list(FILLRATES[mask]['variable'])\n",
    "\n",
    "cols_pred_num = list(set(cols_pred_num).intersection(set(predictors)) - set(dropped_variables))\n",
    "cols_pred_cat = list(set(cols_pred_cat).intersection(set(predictors)) - set(dropped_variables))\n",
    "\n",
    "predictors = cols_pred_num + cols_pred_cat\n",
    "predictors = sorted(predictors)\n",
    "\n",
    "print('# removed due to low fill rate :', len(dropped_variables))\n",
    "print('# predictors :', len(predictors))\n",
    "print('# numerical predictors :', len(cols_pred_num))\n",
    "print('# categorical predictors :', len(cols_pred_cat))"
   ]
  },
  {
   "cell_type": "markdown",
   "id": "381d0b31",
   "metadata": {},
   "source": [
    "## Remove constant or almost constant predictors"
   ]
  },
  {
   "cell_type": "code",
   "execution_count": 9,
   "id": "10e6338f",
   "metadata": {
    "ExecuteTime": {
     "end_time": "2022-03-14T11:33:26.136533Z",
     "start_time": "2022-03-14T11:25:44.137127Z"
    }
   },
   "outputs": [
    {
     "data": {
      "application/vnd.jupyter.widget-view+json": {
       "model_id": "674c2a2c47074f25990a9e20c49b01ad",
       "version_major": 2,
       "version_minor": 0
      },
      "text/plain": [
       "FloatProgress(value=0.0, description='Progress:', max=133.0)"
      ]
     },
     "metadata": {},
     "output_type": "display_data"
    },
    {
     "data": {
      "application/vnd.jupyter.widget-view+json": {
       "model_id": "9f5842cfd794429ea24232607cb48565",
       "version_major": 2,
       "version_minor": 0
      },
      "text/plain": [
       "FloatProgress(value=0.0, description='Progress:', max=13.0)"
      ]
     },
     "metadata": {},
     "output_type": "display_data"
    },
    {
     "name": "stdout",
     "output_type": "stream",
     "text": [
      "# removed predictors due to low variability : 27\n",
      "# predictors : 119\n",
      "# numerical predictors : 106\n",
      "# categorical predictors : 13\n"
     ]
    }
   ],
   "source": [
    "_threshould = 0.95\n",
    "\n",
    "#[]\n",
    "S =  cols_pred_num\n",
    "\n",
    "f = FloatProgress(description='Progress:', min = 0, max =len(S))\n",
    "display(f)\n",
    "\n",
    "drop_list_num = []\n",
    "for col in S:\n",
    "    mask = (data[col] == data[col].mode()[0] )\n",
    "    hommogenity = data[mask].shape[0]/ data.loc[pd.notnull(data[col])].shape[0]\n",
    "    if hommogenity >= _threshould:\n",
    "        drop_list_num.append(col)  # more than _threshould%  of cases is just one value\n",
    "    f.value += 1 \n",
    "\n",
    "#[]    \n",
    "S =  cols_pred_cat\n",
    "\n",
    "f = FloatProgress(description='Progress:', min = 0, max =len(S))\n",
    "display(f)\n",
    "\n",
    "drop_list_cat = []\n",
    "for col in S:\n",
    "    hommogenity =data[col].value_counts().values.max()/data[col].value_counts().values.sum()\n",
    "    if hommogenity >= _threshould:\n",
    "        drop_list_cat.append(col) # more than _threshould%  of cases is just one value   \n",
    "    f.value += 1\n",
    "        \n",
    "cols_pred_num = list(set(cols_pred_num).intersection(set(predictors)) - set(drop_list_num))\n",
    "cols_pred_cat = list(set(cols_pred_cat).intersection(set(predictors)) - set(drop_list_cat))\n",
    "\n",
    "predictors = cols_pred_num + cols_pred_cat\n",
    "predictors = sorted(predictors)\n",
    "\n",
    "print('# removed predictors due to low variability :', len(drop_list_num) + len(drop_list_cat))\n",
    "print('# predictors :', len(predictors))\n",
    "print('# numerical predictors :', len(cols_pred_num))\n",
    "print('# categorical predictors :', len(cols_pred_cat))"
   ]
  },
  {
   "cell_type": "markdown",
   "id": "b9d7b8ed",
   "metadata": {},
   "source": [
    "## Save predictors"
   ]
  },
  {
   "cell_type": "code",
   "execution_count": 10,
   "id": "4748d30f",
   "metadata": {
    "ExecuteTime": {
     "end_time": "2022-03-14T11:33:26.152536Z",
     "start_time": "2022-03-14T11:33:26.137534Z"
    }
   },
   "outputs": [],
   "source": [
    "with open(PATH_OBJECTS + \"predictors_CCX\", \"wb\") as f:\n",
    "            pickle.dump(predictors, f) \n",
    "\n",
    "with open(PATH_OBJECTS + \"predictors_CLX\", \"wb\") as f:\n",
    "            pickle.dump(predictors, f) "
   ]
  },
  {
   "cell_type": "markdown",
   "id": "bd7b8ba2",
   "metadata": {},
   "source": [
    "## convert 'object' type to 'category' type (necessary for LGBM)"
   ]
  },
  {
   "cell_type": "code",
   "execution_count": 11,
   "id": "6172ae7a",
   "metadata": {
    "ExecuteTime": {
     "end_time": "2022-03-14T11:33:30.093062Z",
     "start_time": "2022-03-14T11:33:26.153562Z"
    }
   },
   "outputs": [],
   "source": [
    "for col in cols_pred_cat:\n",
    "    data[col] = data[col].astype('category')"
   ]
  },
  {
   "cell_type": "markdown",
   "id": "5bb7f4f5",
   "metadata": {},
   "source": [
    "# Model training "
   ]
  },
  {
   "cell_type": "code",
   "execution_count": 12,
   "id": "e06d972c",
   "metadata": {
    "ExecuteTime": {
     "end_time": "2022-03-14T11:33:30.109103Z",
     "start_time": "2022-03-14T11:33:30.094062Z"
    }
   },
   "outputs": [],
   "source": [
    "default_params = {\n",
    "        'objective':'multiclass',\n",
    "        'metric':'multi_logloss',\n",
    "        'num_class' : 3,\n",
    "        'early_stopping_rounds':100,\n",
    "        'num_iterations':10000,\n",
    "        'max_bin':20,\n",
    "        'seed':1234,\n",
    "        'verbose':-1,\n",
    "        'n_jobs':-1,\n",
    "}"
   ]
  },
  {
   "cell_type": "markdown",
   "id": "bd6a20fe",
   "metadata": {},
   "source": [
    "**Wrapper arround native LGBM cross valiadtion routine. The wrapper returns the best model after performing CV**"
   ]
  },
  {
   "cell_type": "code",
   "execution_count": 13,
   "id": "b3ac459e",
   "metadata": {
    "ExecuteTime": {
     "end_time": "2022-03-14T11:33:30.125106Z",
     "start_time": "2022-03-14T11:33:30.110104Z"
    }
   },
   "outputs": [],
   "source": [
    "#Global CV parameters\n",
    "_NFLOD = 5\n",
    "_STRATIFIED = True\n",
    "_SHUFFLE = True\n",
    "\n",
    "\n",
    "def LGBM_trained_booster_CV(param, lgbtrain):\n",
    "    \n",
    "    hist = lgb.cv(param, lgbtrain, nfold = _NFLOD, stratified = _STRATIFIED, shuffle=_SHUFFLE, verbose_eval = False)\n",
    "    \n",
    "    ROUNDS = np.array(hist[param['metric'] + '-mean']).argmin() # of optimal setps -1 (0-base indexed)\n",
    "    METRIC = hist[param['metric'] + '-mean'][ROUNDS]  # performance result of CV \n",
    "    \n",
    "    #[get best booster]\n",
    "    _param = param.copy()\n",
    "    _param['num_iterations'] = ROUNDS +1 \n",
    "    _param['early_stopping_rounds'] = 0  \n",
    "    bst = lgb.train(_param, lgbtrain, verbose_eval = False)\n",
    "    \n",
    "    return bst, hist"
   ]
  },
  {
   "cell_type": "markdown",
   "id": "243de14c",
   "metadata": {},
   "source": [
    "## Training"
   ]
  },
  {
   "cell_type": "markdown",
   "id": "8a42bcb4",
   "metadata": {},
   "source": [
    "### model based on CCX control group  (cards)"
   ]
  },
  {
   "cell_type": "markdown",
   "id": "0d130837",
   "metadata": {},
   "source": [
    "#### Model training data"
   ]
  },
  {
   "cell_type": "code",
   "execution_count": 14,
   "id": "a2e8cd18",
   "metadata": {
    "ExecuteTime": {
     "end_time": "2022-03-14T11:33:32.627126Z",
     "start_time": "2022-03-14T11:33:30.126107Z"
    }
   },
   "outputs": [],
   "source": [
    "from sklearn.model_selection import  train_test_split\n",
    "\n",
    "mask = data['CA_TYPE'].isin(['CCX']) & (data['CA_F_CASH_CARD_TG_CG'].isin(['CG']))\n",
    "\n",
    "train , test  = train_test_split(data[mask], test_size = 0.5, random_state = 42,\\\n",
    "                                stratify = data[mask][ [col_month, col_target,col_campaign] ])\n",
    "\n",
    "train = train.reset_index(drop = True)\n",
    "test =  test.reset_index(drop = True)\n",
    "test_CCX = test.copy()\n",
    "\n",
    "T = train\n",
    "X = predictors\n",
    "Y = col_target\n",
    "w = col_weight\n",
    "lgbm_train_data = lgb.Dataset(T[X], label = T[Y], weight = T[w], categorical_feature = cols_pred_cat, free_raw_data=False)"
   ]
  },
  {
   "cell_type": "code",
   "execution_count": 15,
   "id": "b04f98ea",
   "metadata": {
    "ExecuteTime": {
     "end_time": "2022-03-14T11:33:32.643130Z",
     "start_time": "2022-03-14T11:33:32.628127Z"
    }
   },
   "outputs": [
    {
     "name": "stdout",
     "output_type": "stream",
     "text": [
      "0    125113\n",
      "2       239\n",
      "1       182\n",
      "Name: target, dtype: int64\n",
      "0    125114\n",
      "2       239\n",
      "1       182\n",
      "Name: target, dtype: int64\n"
     ]
    }
   ],
   "source": [
    "print(train[col_target].value_counts())\n",
    "print(test[col_target].value_counts())"
   ]
  },
  {
   "cell_type": "markdown",
   "id": "c9b6d3ed",
   "metadata": {},
   "source": [
    "#### Tune  the following Ligtgbm Hyperparameters \n",
    "**['feature_fraction','num_leaves', 'bagging_fraction', 'bagging_freq', 'lambda_l1', 'lambda_l2', \n",
    "                  'min_child_samples']**\n",
    "                                    \n",
    "**This is a houristic approach based on grand master best-practices from the Kaggle competition, tuning the HyperParameters sequentialy (one by one) in the order given above , while keeping other Hyperparameters at their default settings (including learning rate = 0.1).**\n",
    "\n",
    "**It is reported to be considerably faster than the full-blown approach (on the product of individual HP spaces)**\n",
    "**while attaining similar performance.**\n",
    "\n",
    "**It is implemented in the Opruna HP optimization backage v 2.10 (LightGBMTuner , LightGBMTunerCV).**"
   ]
  },
  {
   "cell_type": "markdown",
   "id": "9e3b35d6",
   "metadata": {
    "ExecuteTime": {
     "end_time": "2022-03-14T10:10:48.745529Z",
     "start_time": "2022-03-14T10:10:48.741528Z"
    }
   },
   "source": [
    "**For more details, see:**\n",
    "\n",
    "#https://optuna.readthedocs.io/en/stable/reference/generated/optuna.integration.lightgbm.LightGBMTuner.html\n",
    "\n",
    "#https://optuna.readthedocs.io/en/stable/reference/generated/optuna.integration.lightgbm.LightGBMTunerCV.html\n",
    "\n",
    "#https://medium.com/optuna/lightgbm-tuner-new-optuna-integration-for-hyperparameter-optimization-8b7095e99258\n",
    "\n",
    "#https://www.kaggle.com/bjoernholzhauer/lightgbm-tuning-with-optuna"
   ]
  },
  {
   "cell_type": "code",
   "execution_count": 16,
   "id": "d6bc1d53",
   "metadata": {
    "ExecuteTime": {
     "end_time": "2022-03-14T11:49:09.609616Z",
     "start_time": "2022-03-14T11:33:32.644132Z"
    },
    "scrolled": false
   },
   "outputs": [
    {
     "name": "stderr",
     "output_type": "stream",
     "text": [
      "\u001b[32m[I 2022-03-14 12:33:32,646]\u001b[0m A new study created in memory with name: no-name-8922d662-1bb0-4ab6-a154-db280e53e152\u001b[0m\n",
      "feature_fraction, val_score: inf:   0%|                                                          | 0/7 [00:00<?, ?it/s]Found `num_iterations` in params. Will use it instead of argument\n",
      "Found `early_stopping_rounds` in params. Will use it instead of argument\n",
      "Using categorical_feature in Dataset.\n",
      "feature_fraction, val_score: 0.027424:  14%|######4                                      | 1/7 [00:12<01:14, 12.40s/it]\u001b[32m[I 2022-03-14 12:33:45,048]\u001b[0m Trial 0 finished with value: 0.027423920603861417 and parameters: {'feature_fraction': 0.6}. Best is trial 0 with value: 0.027423920603861417.\u001b[0m\n",
      "feature_fraction, val_score: 0.027424:  14%|######4                                      | 1/7 [00:12<01:14, 12.40s/it]Found `num_iterations` in params. Will use it instead of argument\n",
      "Found `early_stopping_rounds` in params. Will use it instead of argument\n",
      "Using categorical_feature in Dataset.\n",
      "feature_fraction, val_score: 0.027415:  29%|############8                                | 2/7 [00:23<00:59, 11.82s/it]\u001b[32m[I 2022-03-14 12:33:56,459]\u001b[0m Trial 1 finished with value: 0.027415150921871523 and parameters: {'feature_fraction': 0.8999999999999999}. Best is trial 1 with value: 0.027415150921871523.\u001b[0m\n",
      "feature_fraction, val_score: 0.027415:  29%|############8                                | 2/7 [00:23<00:59, 11.82s/it]Found `num_iterations` in params. Will use it instead of argument\n",
      "Found `early_stopping_rounds` in params. Will use it instead of argument\n",
      "Using categorical_feature in Dataset.\n",
      "feature_fraction, val_score: 0.027415:  43%|###################2                         | 3/7 [00:35<00:46, 11.68s/it]\u001b[32m[I 2022-03-14 12:34:07,968]\u001b[0m Trial 2 finished with value: 0.028103877413949936 and parameters: {'feature_fraction': 1.0}. Best is trial 1 with value: 0.027415150921871523.\u001b[0m\n",
      "feature_fraction, val_score: 0.027415:  43%|###################2                         | 3/7 [00:35<00:46, 11.68s/it]Found `num_iterations` in params. Will use it instead of argument\n",
      "Found `early_stopping_rounds` in params. Will use it instead of argument\n",
      "Using categorical_feature in Dataset.\n",
      "feature_fraction, val_score: 0.027381:  57%|#########################7                   | 4/7 [00:46<00:34, 11.43s/it]\u001b[32m[I 2022-03-14 12:34:19,015]\u001b[0m Trial 3 finished with value: 0.027381321215857946 and parameters: {'feature_fraction': 0.8}. Best is trial 3 with value: 0.027381321215857946.\u001b[0m\n",
      "feature_fraction, val_score: 0.027381:  57%|#########################7                   | 4/7 [00:46<00:34, 11.43s/it]Found `num_iterations` in params. Will use it instead of argument\n",
      "Found `early_stopping_rounds` in params. Will use it instead of argument\n",
      "Using categorical_feature in Dataset.\n",
      "feature_fraction, val_score: 0.026919:  71%|################################1            | 5/7 [00:58<00:23, 11.76s/it]\u001b[32m[I 2022-03-14 12:34:31,365]\u001b[0m Trial 4 finished with value: 0.02691924091845016 and parameters: {'feature_fraction': 0.5}. Best is trial 4 with value: 0.02691924091845016.\u001b[0m\n",
      "feature_fraction, val_score: 0.026919:  71%|################################1            | 5/7 [00:58<00:23, 11.76s/it]Found `num_iterations` in params. Will use it instead of argument\n",
      "Found `early_stopping_rounds` in params. Will use it instead of argument\n",
      "Using categorical_feature in Dataset.\n",
      "feature_fraction, val_score: 0.026572:  86%|######################################5      | 6/7 [01:09<00:11, 11.53s/it]\u001b[32m[I 2022-03-14 12:34:42,460]\u001b[0m Trial 5 finished with value: 0.026571512194215073 and parameters: {'feature_fraction': 0.4}. Best is trial 5 with value: 0.026571512194215073.\u001b[0m\n",
      "feature_fraction, val_score: 0.026572:  86%|######################################5      | 6/7 [01:09<00:11, 11.53s/it]Found `num_iterations` in params. Will use it instead of argument\n",
      "Found `early_stopping_rounds` in params. Will use it instead of argument\n",
      "Using categorical_feature in Dataset.\n",
      "feature_fraction, val_score: 0.026572: 100%|#############################################| 7/7 [01:19<00:00, 11.01s/it]\u001b[32m[I 2022-03-14 12:34:52,422]\u001b[0m Trial 6 finished with value: 0.02775285611105799 and parameters: {'feature_fraction': 0.7}. Best is trial 5 with value: 0.026571512194215073.\u001b[0m\n",
      "feature_fraction, val_score: 0.026572: 100%|#############################################| 7/7 [01:19<00:00, 11.40s/it]\n",
      "num_leaves, val_score: 0.026572:   0%|                                                          | 0/20 [00:00<?, ?it/s]Found `num_iterations` in params. Will use it instead of argument\n",
      "Found `early_stopping_rounds` in params. Will use it instead of argument\n",
      "Using categorical_feature in Dataset.\n",
      "num_leaves, val_score: 0.026572:   5%|##5                                               | 1/20 [00:22<07:02, 22.25s/it]\u001b[32m[I 2022-03-14 12:35:14,676]\u001b[0m Trial 7 finished with value: 0.027288085722914236 and parameters: {'num_leaves': 114}. Best is trial 7 with value: 0.027288085722914236.\u001b[0m\n",
      "num_leaves, val_score: 0.026572:   5%|##5                                               | 1/20 [00:22<07:02, 22.25s/it]Found `num_iterations` in params. Will use it instead of argument\n",
      "Found `early_stopping_rounds` in params. Will use it instead of argument\n",
      "Using categorical_feature in Dataset.\n",
      "num_leaves, val_score: 0.026178:  10%|#####                                             | 2/20 [00:32<04:33, 15.22s/it]\u001b[32m[I 2022-03-14 12:35:24,976]\u001b[0m Trial 8 finished with value: 0.026177843791957856 and parameters: {'num_leaves': 21}. Best is trial 8 with value: 0.026177843791957856.\u001b[0m\n",
      "num_leaves, val_score: 0.026178:  10%|#####                                             | 2/20 [00:32<04:33, 15.22s/it]Found `num_iterations` in params. Will use it instead of argument\n",
      "Found `early_stopping_rounds` in params. Will use it instead of argument\n",
      "Using categorical_feature in Dataset.\n",
      "num_leaves, val_score: 0.026151:  15%|#######5                                          | 3/20 [00:42<03:37, 12.77s/it]\u001b[32m[I 2022-03-14 12:35:34,835]\u001b[0m Trial 9 finished with value: 0.02615077798002019 and parameters: {'num_leaves': 19}. Best is trial 9 with value: 0.02615077798002019.\u001b[0m\n",
      "num_leaves, val_score: 0.026151:  15%|#######5                                          | 3/20 [00:42<03:37, 12.77s/it]Found `num_iterations` in params. Will use it instead of argument\n",
      "Found `early_stopping_rounds` in params. Will use it instead of argument\n",
      "Using categorical_feature in Dataset.\n",
      "num_leaves, val_score: 0.026151:  20%|##########                                        | 4/20 [01:04<04:26, 16.64s/it]\u001b[32m[I 2022-03-14 12:35:57,410]\u001b[0m Trial 10 finished with value: 0.0274728697463833 and parameters: {'num_leaves': 136}. Best is trial 9 with value: 0.02615077798002019.\u001b[0m\n",
      "num_leaves, val_score: 0.026151:  20%|##########                                        | 4/20 [01:04<04:26, 16.64s/it]Found `num_iterations` in params. Will use it instead of argument\n",
      "Found `early_stopping_rounds` in params. Will use it instead of argument\n",
      "Using categorical_feature in Dataset.\n",
      "num_leaves, val_score: 0.026151:  25%|############5                                     | 5/20 [01:25<04:31, 18.10s/it]\u001b[32m[I 2022-03-14 12:36:18,099]\u001b[0m Trial 11 finished with value: 0.027288072837440207 and parameters: {'num_leaves': 98}. Best is trial 9 with value: 0.02615077798002019.\u001b[0m\n",
      "num_leaves, val_score: 0.026151:  25%|############5                                     | 5/20 [01:25<04:31, 18.10s/it]Found `num_iterations` in params. Will use it instead of argument\n",
      "Found `early_stopping_rounds` in params. Will use it instead of argument\n",
      "Using categorical_feature in Dataset.\n",
      "num_leaves, val_score: 0.026151:  30%|###############                                   | 6/20 [01:50<04:43, 20.28s/it]\u001b[32m[I 2022-03-14 12:36:42,593]\u001b[0m Trial 12 finished with value: 0.027435084483842777 and parameters: {'num_leaves': 147}. Best is trial 9 with value: 0.02615077798002019.\u001b[0m\n",
      "num_leaves, val_score: 0.026151:  30%|###############                                   | 6/20 [01:50<04:43, 20.28s/it]Found `num_iterations` in params. Will use it instead of argument\n",
      "Found `early_stopping_rounds` in params. Will use it instead of argument\n",
      "Using categorical_feature in Dataset.\n"
     ]
    },
    {
     "name": "stderr",
     "output_type": "stream",
     "text": [
      "num_leaves, val_score: 0.026151:  35%|#################5                                | 7/20 [02:16<04:47, 22.11s/it]\u001b[32m[I 2022-03-14 12:37:08,472]\u001b[0m Trial 13 finished with value: 0.027548471859826156 and parameters: {'num_leaves': 201}. Best is trial 9 with value: 0.02615077798002019.\u001b[0m\n",
      "num_leaves, val_score: 0.026151:  35%|#################5                                | 7/20 [02:16<04:47, 22.11s/it]Found `num_iterations` in params. Will use it instead of argument\n",
      "Found `early_stopping_rounds` in params. Will use it instead of argument\n",
      "Using categorical_feature in Dataset.\n",
      "num_leaves, val_score: 0.026151:  40%|####################                              | 8/20 [02:26<03:40, 18.38s/it]\u001b[32m[I 2022-03-14 12:37:18,868]\u001b[0m Trial 14 finished with value: 0.026454728709238196 and parameters: {'num_leaves': 24}. Best is trial 9 with value: 0.02615077798002019.\u001b[0m\n",
      "num_leaves, val_score: 0.026151:  40%|####################                              | 8/20 [02:26<03:40, 18.38s/it]Found `num_iterations` in params. Will use it instead of argument\n",
      "Found `early_stopping_rounds` in params. Will use it instead of argument\n",
      "Using categorical_feature in Dataset.\n",
      "num_leaves, val_score: 0.025638:  45%|######################5                           | 9/20 [02:35<02:49, 15.42s/it]\u001b[32m[I 2022-03-14 12:37:27,777]\u001b[0m Trial 15 finished with value: 0.025638246261433406 and parameters: {'num_leaves': 13}. Best is trial 15 with value: 0.025638246261433406.\u001b[0m\n",
      "num_leaves, val_score: 0.025638:  45%|######################5                           | 9/20 [02:35<02:49, 15.42s/it]Found `num_iterations` in params. Will use it instead of argument\n",
      "Found `early_stopping_rounds` in params. Will use it instead of argument\n",
      "Using categorical_feature in Dataset.\n",
      "num_leaves, val_score: 0.025638:  50%|########################5                        | 10/20 [03:01<03:06, 18.63s/it]\u001b[32m[I 2022-03-14 12:37:53,592]\u001b[0m Trial 16 finished with value: 0.02754736645416475 and parameters: {'num_leaves': 188}. Best is trial 15 with value: 0.025638246261433406.\u001b[0m\n",
      "num_leaves, val_score: 0.025638:  50%|########################5                        | 10/20 [03:01<03:06, 18.63s/it]Found `num_iterations` in params. Will use it instead of argument\n",
      "Found `early_stopping_rounds` in params. Will use it instead of argument\n",
      "Using categorical_feature in Dataset.\n",
      "num_leaves, val_score: 0.025638:  55%|##########################9                      | 11/20 [03:18<02:44, 18.31s/it]\u001b[32m[I 2022-03-14 12:38:11,174]\u001b[0m Trial 17 finished with value: 0.027150928978320426 and parameters: {'num_leaves': 66}. Best is trial 15 with value: 0.025638246261433406.\u001b[0m\n",
      "num_leaves, val_score: 0.025638:  55%|##########################9                      | 11/20 [03:18<02:44, 18.31s/it]Found `num_iterations` in params. Will use it instead of argument\n",
      "Found `early_stopping_rounds` in params. Will use it instead of argument\n",
      "Using categorical_feature in Dataset.\n",
      "num_leaves, val_score: 0.023082:  60%|#############################4                   | 12/20 [03:31<02:12, 16.60s/it]\u001b[32m[I 2022-03-14 12:38:23,861]\u001b[0m Trial 18 finished with value: 0.02308227824550119 and parameters: {'num_leaves': 3}. Best is trial 18 with value: 0.02308227824550119.\u001b[0m\n",
      "num_leaves, val_score: 0.023082:  60%|#############################4                   | 12/20 [03:31<02:12, 16.60s/it]Found `num_iterations` in params. Will use it instead of argument\n",
      "Found `early_stopping_rounds` in params. Will use it instead of argument\n",
      "Using categorical_feature in Dataset.\n",
      "num_leaves, val_score: 0.023082:  65%|###############################8                 | 13/20 [03:59<02:20, 20.09s/it]\u001b[32m[I 2022-03-14 12:38:51,995]\u001b[0m Trial 19 finished with value: 0.027637718375871756 and parameters: {'num_leaves': 250}. Best is trial 18 with value: 0.02308227824550119.\u001b[0m\n",
      "num_leaves, val_score: 0.023082:  65%|###############################8                 | 13/20 [03:59<02:20, 20.09s/it]Found `num_iterations` in params. Will use it instead of argument\n",
      "Found `early_stopping_rounds` in params. Will use it instead of argument\n",
      "Using categorical_feature in Dataset.\n",
      "num_leaves, val_score: 0.023082:  70%|##################################3              | 14/20 [04:15<01:53, 18.93s/it]\u001b[32m[I 2022-03-14 12:39:08,236]\u001b[0m Trial 20 finished with value: 0.02700369209654043 and parameters: {'num_leaves': 55}. Best is trial 18 with value: 0.02308227824550119.\u001b[0m\n",
      "num_leaves, val_score: 0.023082:  70%|##################################3              | 14/20 [04:15<01:53, 18.93s/it]Found `num_iterations` in params. Will use it instead of argument\n",
      "Found `early_stopping_rounds` in params. Will use it instead of argument\n",
      "Using categorical_feature in Dataset.\n",
      "num_leaves, val_score: 0.023082:  75%|####################################7            | 15/20 [04:25<01:20, 16.14s/it]\u001b[32m[I 2022-03-14 12:39:17,906]\u001b[0m Trial 21 finished with value: 0.024479988784113133 and parameters: {'num_leaves': 6}. Best is trial 18 with value: 0.02308227824550119.\u001b[0m\n",
      "num_leaves, val_score: 0.023082:  75%|####################################7            | 15/20 [04:25<01:20, 16.14s/it]Found `num_iterations` in params. Will use it instead of argument\n",
      "Found `early_stopping_rounds` in params. Will use it instead of argument\n",
      "Using categorical_feature in Dataset.\n",
      "num_leaves, val_score: 0.023082:  80%|#######################################2         | 16/20 [04:42<01:05, 16.45s/it]\u001b[32m[I 2022-03-14 12:39:35,093]\u001b[0m Trial 22 finished with value: 0.026961030530872388 and parameters: {'num_leaves': 61}. Best is trial 18 with value: 0.02308227824550119.\u001b[0m\n",
      "num_leaves, val_score: 0.023082:  80%|#######################################2         | 16/20 [04:42<01:05, 16.45s/it]Found `num_iterations` in params. Will use it instead of argument\n",
      "Found `early_stopping_rounds` in params. Will use it instead of argument\n",
      "Using categorical_feature in Dataset.\n",
      "num_leaves, val_score: 0.023082:  85%|#########################################6       | 17/20 [05:01<00:51, 17.12s/it]\u001b[32m[I 2022-03-14 12:39:53,760]\u001b[0m Trial 23 finished with value: 0.027339472036884267 and parameters: {'num_leaves': 78}. Best is trial 18 with value: 0.02308227824550119.\u001b[0m\n",
      "num_leaves, val_score: 0.023082:  85%|#########################################6       | 17/20 [05:01<00:51, 17.12s/it]Found `num_iterations` in params. Will use it instead of argument\n",
      "Found `early_stopping_rounds` in params. Will use it instead of argument\n",
      "Using categorical_feature in Dataset.\n",
      "num_leaves, val_score: 0.023082:  90%|############################################1    | 18/20 [05:13<00:31, 15.77s/it]\u001b[32m[I 2022-03-14 12:40:06,382]\u001b[0m Trial 24 finished with value: 0.02308227824550119 and parameters: {'num_leaves': 3}. Best is trial 18 with value: 0.02308227824550119.\u001b[0m\n",
      "num_leaves, val_score: 0.023082:  90%|############################################1    | 18/20 [05:13<00:31, 15.77s/it]Found `num_iterations` in params. Will use it instead of argument\n",
      "Found `early_stopping_rounds` in params. Will use it instead of argument\n",
      "Using categorical_feature in Dataset.\n",
      "num_leaves, val_score: 0.023082:  95%|##############################################5  | 19/20 [05:27<00:15, 15.01s/it]\u001b[32m[I 2022-03-14 12:40:19,630]\u001b[0m Trial 25 finished with value: 0.02696087082748349 and parameters: {'num_leaves': 43}. Best is trial 18 with value: 0.02308227824550119.\u001b[0m\n",
      "num_leaves, val_score: 0.023082:  95%|##############################################5  | 19/20 [05:27<00:15, 15.01s/it]Found `num_iterations` in params. Will use it instead of argument\n",
      "Found `early_stopping_rounds` in params. Will use it instead of argument\n",
      "Using categorical_feature in Dataset.\n",
      "num_leaves, val_score: 0.023082: 100%|#################################################| 20/20 [05:50<00:00, 17.60s/it]\u001b[32m[I 2022-03-14 12:40:43,261]\u001b[0m Trial 26 finished with value: 0.027575413785671233 and parameters: {'num_leaves': 160}. Best is trial 18 with value: 0.02308227824550119.\u001b[0m\n",
      "num_leaves, val_score: 0.023082: 100%|#################################################| 20/20 [05:50<00:00, 17.54s/it]\n"
     ]
    },
    {
     "name": "stderr",
     "output_type": "stream",
     "text": [
      "bagging, val_score: 0.023082:   0%|                                                             | 0/10 [00:00<?, ?it/s]Found `num_iterations` in params. Will use it instead of argument\n",
      "Found `early_stopping_rounds` in params. Will use it instead of argument\n",
      "Using categorical_feature in Dataset.\n",
      "bagging, val_score: 0.023082:  10%|#####3                                               | 1/10 [00:10<01:30, 10.00s/it]\u001b[32m[I 2022-03-14 12:40:53,270]\u001b[0m Trial 27 finished with value: 0.023223548233211738 and parameters: {'bagging_fraction': 0.6570129465861856, 'bagging_freq': 2}. Best is trial 27 with value: 0.023223548233211738.\u001b[0m\n",
      "bagging, val_score: 0.023082:  10%|#####3                                               | 1/10 [00:10<01:30, 10.00s/it]Found `num_iterations` in params. Will use it instead of argument\n",
      "Found `early_stopping_rounds` in params. Will use it instead of argument\n",
      "Using categorical_feature in Dataset.\n",
      "bagging, val_score: 0.023082:  20%|##########6                                          | 2/10 [00:20<01:23, 10.40s/it]\u001b[32m[I 2022-03-14 12:41:03,944]\u001b[0m Trial 28 finished with value: 0.02316079834421537 and parameters: {'bagging_fraction': 0.7384370783352052, 'bagging_freq': 7}. Best is trial 28 with value: 0.02316079834421537.\u001b[0m\n",
      "bagging, val_score: 0.023082:  20%|##########6                                          | 2/10 [00:20<01:23, 10.40s/it]Found `num_iterations` in params. Will use it instead of argument\n",
      "Found `early_stopping_rounds` in params. Will use it instead of argument\n",
      "Using categorical_feature in Dataset.\n",
      "bagging, val_score: 0.023082:  30%|###############9                                     | 3/10 [00:28<01:04,  9.15s/it]\u001b[32m[I 2022-03-14 12:41:11,603]\u001b[0m Trial 29 finished with value: 0.023330288387554778 and parameters: {'bagging_fraction': 0.532092796136789, 'bagging_freq': 3}. Best is trial 28 with value: 0.02316079834421537.\u001b[0m\n",
      "bagging, val_score: 0.023082:  30%|###############9                                     | 3/10 [00:28<01:04,  9.15s/it]Found `num_iterations` in params. Will use it instead of argument\n",
      "Found `early_stopping_rounds` in params. Will use it instead of argument\n",
      "Using categorical_feature in Dataset.\n",
      "bagging, val_score: 0.023082:  40%|#####################2                               | 4/10 [00:41<01:05, 10.85s/it]\u001b[32m[I 2022-03-14 12:41:25,074]\u001b[0m Trial 30 finished with value: 0.023115030344154033 and parameters: {'bagging_fraction': 0.725487301061535, 'bagging_freq': 1}. Best is trial 30 with value: 0.023115030344154033.\u001b[0m\n",
      "bagging, val_score: 0.023082:  40%|#####################2                               | 4/10 [00:41<01:05, 10.85s/it]Found `num_iterations` in params. Will use it instead of argument\n",
      "Found `early_stopping_rounds` in params. Will use it instead of argument\n",
      "Using categorical_feature in Dataset.\n",
      "bagging, val_score: 0.023082:  50%|##########################5                          | 5/10 [00:52<00:54, 10.85s/it]\u001b[32m[I 2022-03-14 12:41:35,917]\u001b[0m Trial 31 finished with value: 0.023157904227771243 and parameters: {'bagging_fraction': 0.7735928857515433, 'bagging_freq': 4}. Best is trial 30 with value: 0.023115030344154033.\u001b[0m\n",
      "bagging, val_score: 0.023082:  50%|##########################5                          | 5/10 [00:52<00:54, 10.85s/it]Found `num_iterations` in params. Will use it instead of argument\n",
      "Found `early_stopping_rounds` in params. Will use it instead of argument\n",
      "Using categorical_feature in Dataset.\n",
      "bagging, val_score: 0.023082:  60%|###############################8                     | 6/10 [01:06<00:47, 11.80s/it]\u001b[32m[I 2022-03-14 12:41:49,545]\u001b[0m Trial 32 finished with value: 0.02311820181113185 and parameters: {'bagging_fraction': 0.9207510691653263, 'bagging_freq': 3}. Best is trial 30 with value: 0.023115030344154033.\u001b[0m\n",
      "bagging, val_score: 0.023082:  60%|###############################8                     | 6/10 [01:06<00:47, 11.80s/it]Found `num_iterations` in params. Will use it instead of argument\n",
      "Found `early_stopping_rounds` in params. Will use it instead of argument\n",
      "Using categorical_feature in Dataset.\n",
      "bagging, val_score: 0.023082:  70%|#####################################                | 7/10 [01:16<00:33, 11.13s/it]\u001b[32m[I 2022-03-14 12:41:59,301]\u001b[0m Trial 33 finished with value: 0.02330449990369711 and parameters: {'bagging_fraction': 0.5164237592907006, 'bagging_freq': 3}. Best is trial 30 with value: 0.023115030344154033.\u001b[0m\n",
      "bagging, val_score: 0.023082:  70%|#####################################                | 7/10 [01:16<00:33, 11.13s/it]Found `num_iterations` in params. Will use it instead of argument\n",
      "Found `early_stopping_rounds` in params. Will use it instead of argument\n",
      "Using categorical_feature in Dataset.\n",
      "bagging, val_score: 0.023082:  80%|##########################################4          | 8/10 [01:23<00:19,  9.90s/it]\u001b[32m[I 2022-03-14 12:42:06,587]\u001b[0m Trial 34 finished with value: 0.023420417018726807 and parameters: {'bagging_fraction': 0.4488893187312927, 'bagging_freq': 7}. Best is trial 30 with value: 0.023115030344154033.\u001b[0m\n",
      "bagging, val_score: 0.023082:  80%|##########################################4          | 8/10 [01:23<00:19,  9.90s/it]Found `num_iterations` in params. Will use it instead of argument\n",
      "Found `early_stopping_rounds` in params. Will use it instead of argument\n",
      "Using categorical_feature in Dataset.\n",
      "bagging, val_score: 0.023082:  90%|###############################################7     | 9/10 [01:30<00:09,  9.04s/it]\u001b[32m[I 2022-03-14 12:42:13,711]\u001b[0m Trial 35 finished with value: 0.023364452477324268 and parameters: {'bagging_fraction': 0.4707595232909577, 'bagging_freq': 6}. Best is trial 30 with value: 0.023115030344154033.\u001b[0m\n",
      "bagging, val_score: 0.023082:  90%|###############################################7     | 9/10 [01:30<00:09,  9.04s/it]Found `num_iterations` in params. Will use it instead of argument\n",
      "Found `early_stopping_rounds` in params. Will use it instead of argument\n",
      "Using categorical_feature in Dataset.\n",
      "bagging, val_score: 0.023082: 100%|####################################################| 10/10 [01:42<00:00, 10.04s/it]\u001b[32m[I 2022-03-14 12:42:26,013]\u001b[0m Trial 36 finished with value: 0.023183003402390382 and parameters: {'bagging_fraction': 0.6789790329657845, 'bagging_freq': 7}. Best is trial 30 with value: 0.023115030344154033.\u001b[0m\n",
      "bagging, val_score: 0.023082: 100%|####################################################| 10/10 [01:42<00:00, 10.28s/it]\n",
      "feature_fraction_stage2, val_score: 0.023082:   0%|                                              | 0/3 [00:00<?, ?it/s]Found `num_iterations` in params. Will use it instead of argument\n",
      "Found `early_stopping_rounds` in params. Will use it instead of argument\n",
      "Using categorical_feature in Dataset.\n",
      "feature_fraction_stage2, val_score: 0.023059:  33%|############6                         | 1/3 [00:12<00:24, 12.29s/it]\u001b[32m[I 2022-03-14 12:42:38,308]\u001b[0m Trial 37 finished with value: 0.023059020286584096 and parameters: {'feature_fraction': 0.48000000000000004}. Best is trial 37 with value: 0.023059020286584096.\u001b[0m\n",
      "feature_fraction_stage2, val_score: 0.023059:  33%|############6                         | 1/3 [00:12<00:24, 12.29s/it]Found `num_iterations` in params. Will use it instead of argument\n",
      "Found `early_stopping_rounds` in params. Will use it instead of argument\n",
      "Using categorical_feature in Dataset.\n",
      "feature_fraction_stage2, val_score: 0.023059:  67%|#########################3            | 2/3 [00:23<00:11, 11.72s/it]\u001b[32m[I 2022-03-14 12:42:49,634]\u001b[0m Trial 38 finished with value: 0.02312665604087347 and parameters: {'feature_fraction': 0.41600000000000004}. Best is trial 37 with value: 0.023059020286584096.\u001b[0m\n",
      "feature_fraction_stage2, val_score: 0.023059:  67%|#########################3            | 2/3 [00:23<00:11, 11.72s/it]Found `num_iterations` in params. Will use it instead of argument\n",
      "Found `early_stopping_rounds` in params. Will use it instead of argument\n",
      "Using categorical_feature in Dataset.\n",
      "feature_fraction_stage2, val_score: 0.023059: 100%|######################################| 3/3 [00:36<00:00, 12.04s/it]\u001b[32m[I 2022-03-14 12:43:02,061]\u001b[0m Trial 39 finished with value: 0.023183921766794936 and parameters: {'feature_fraction': 0.44800000000000006}. Best is trial 37 with value: 0.023059020286584096.\u001b[0m\n"
     ]
    },
    {
     "name": "stderr",
     "output_type": "stream",
     "text": [
      "feature_fraction_stage2, val_score: 0.023059: 100%|######################################| 3/3 [00:36<00:00, 12.02s/it]\n",
      "regularization_factors, val_score: 0.023059:   0%|                                              | 0/20 [00:00<?, ?it/s]Found `num_iterations` in params. Will use it instead of argument\n",
      "Found `early_stopping_rounds` in params. Will use it instead of argument\n",
      "Using categorical_feature in Dataset.\n",
      "regularization_factors, val_score: 0.023039:   5%|#9                                    | 1/20 [00:12<03:54, 12.33s/it]\u001b[32m[I 2022-03-14 12:43:14,398]\u001b[0m Trial 40 finished with value: 0.023038900548048587 and parameters: {'lambda_l1': 1.6746383693183385e-05, 'lambda_l2': 0.0010140597700941275}. Best is trial 40 with value: 0.023038900548048587.\u001b[0m\n",
      "regularization_factors, val_score: 0.023039:   5%|#9                                    | 1/20 [00:12<03:54, 12.33s/it]Found `num_iterations` in params. Will use it instead of argument\n",
      "Found `early_stopping_rounds` in params. Will use it instead of argument\n",
      "Using categorical_feature in Dataset.\n",
      "regularization_factors, val_score: 0.023039:  10%|###8                                  | 2/20 [00:24<03:38, 12.16s/it]\u001b[32m[I 2022-03-14 12:43:26,443]\u001b[0m Trial 41 finished with value: 0.023045128521065793 and parameters: {'lambda_l1': 1.8445927334533077e-08, 'lambda_l2': 0.019028837109564514}. Best is trial 40 with value: 0.023038900548048587.\u001b[0m\n",
      "regularization_factors, val_score: 0.023039:  10%|###8                                  | 2/20 [00:24<03:38, 12.16s/it]Found `num_iterations` in params. Will use it instead of argument\n",
      "Found `early_stopping_rounds` in params. Will use it instead of argument\n",
      "Using categorical_feature in Dataset.\n",
      "regularization_factors, val_score: 0.022894:  15%|#####7                                | 3/20 [00:43<04:24, 15.55s/it]\u001b[32m[I 2022-03-14 12:43:46,015]\u001b[0m Trial 42 finished with value: 0.022893825494634628 and parameters: {'lambda_l1': 6.910486422040689, 'lambda_l2': 1.2397652962282293e-06}. Best is trial 42 with value: 0.022893825494634628.\u001b[0m\n",
      "regularization_factors, val_score: 0.022894:  15%|#####7                                | 3/20 [00:43<04:24, 15.55s/it]Found `num_iterations` in params. Will use it instead of argument\n",
      "Found `early_stopping_rounds` in params. Will use it instead of argument\n",
      "Using categorical_feature in Dataset.\n",
      "regularization_factors, val_score: 0.022894:  20%|#######6                              | 4/20 [01:04<04:40, 17.54s/it]\u001b[32m[I 2022-03-14 12:44:06,622]\u001b[0m Trial 43 finished with value: 0.02294224107670239 and parameters: {'lambda_l1': 8.638753905192454, 'lambda_l2': 2.1732449620262302e-08}. Best is trial 42 with value: 0.022893825494634628.\u001b[0m\n",
      "regularization_factors, val_score: 0.022894:  20%|#######6                              | 4/20 [01:04<04:40, 17.54s/it]Found `num_iterations` in params. Will use it instead of argument\n",
      "Found `early_stopping_rounds` in params. Will use it instead of argument\n",
      "Using categorical_feature in Dataset.\n",
      "regularization_factors, val_score: 0.022894:  25%|#########5                            | 5/20 [01:16<03:52, 15.51s/it]\u001b[32m[I 2022-03-14 12:44:18,520]\u001b[0m Trial 44 finished with value: 0.022914311551042225 and parameters: {'lambda_l1': 1.9452013982985184e-06, 'lambda_l2': 5.297745341571921}. Best is trial 42 with value: 0.022893825494634628.\u001b[0m\n",
      "regularization_factors, val_score: 0.022894:  25%|#########5                            | 5/20 [01:16<03:52, 15.51s/it]Found `num_iterations` in params. Will use it instead of argument\n",
      "Found `early_stopping_rounds` in params. Will use it instead of argument\n",
      "Using categorical_feature in Dataset.\n",
      "regularization_factors, val_score: 0.022894:  30%|###########4                          | 6/20 [01:31<03:37, 15.51s/it]\u001b[32m[I 2022-03-14 12:44:34,048]\u001b[0m Trial 45 finished with value: 0.022938928771079635 and parameters: {'lambda_l1': 2.9382084056467725, 'lambda_l2': 5.862614044195117e-07}. Best is trial 42 with value: 0.022893825494634628.\u001b[0m\n",
      "regularization_factors, val_score: 0.022894:  30%|###########4                          | 6/20 [01:31<03:37, 15.51s/it]Found `num_iterations` in params. Will use it instead of argument\n",
      "Found `early_stopping_rounds` in params. Will use it instead of argument\n",
      "Using categorical_feature in Dataset.\n",
      "regularization_factors, val_score: 0.022894:  35%|#############3                        | 7/20 [01:43<03:06, 14.36s/it]\u001b[32m[I 2022-03-14 12:44:46,041]\u001b[0m Trial 46 finished with value: 0.023037089812992156 and parameters: {'lambda_l1': 0.24767482874578903, 'lambda_l2': 0.012097658830038596}. Best is trial 42 with value: 0.022893825494634628.\u001b[0m\n",
      "regularization_factors, val_score: 0.022894:  35%|#############3                        | 7/20 [01:43<03:06, 14.36s/it]Found `num_iterations` in params. Will use it instead of argument\n",
      "Found `early_stopping_rounds` in params. Will use it instead of argument\n",
      "Using categorical_feature in Dataset.\n",
      "regularization_factors, val_score: 0.022894:  40%|###############2                      | 8/20 [01:56<02:44, 13.69s/it]\u001b[32m[I 2022-03-14 12:44:58,291]\u001b[0m Trial 47 finished with value: 0.023045334952584182 and parameters: {'lambda_l1': 8.476264794042145e-08, 'lambda_l2': 0.24059337022061458}. Best is trial 42 with value: 0.022893825494634628.\u001b[0m\n",
      "regularization_factors, val_score: 0.022894:  40%|###############2                      | 8/20 [01:56<02:44, 13.69s/it]Found `num_iterations` in params. Will use it instead of argument\n",
      "Found `early_stopping_rounds` in params. Will use it instead of argument\n",
      "Using categorical_feature in Dataset.\n",
      "regularization_factors, val_score: 0.022894:  45%|#################1                    | 9/20 [02:09<02:27, 13.43s/it]\u001b[32m[I 2022-03-14 12:45:11,159]\u001b[0m Trial 48 finished with value: 0.022913346218015666 and parameters: {'lambda_l1': 0.0009051505706765126, 'lambda_l2': 7.166452926842236}. Best is trial 42 with value: 0.022893825494634628.\u001b[0m\n",
      "regularization_factors, val_score: 0.022894:  45%|#################1                    | 9/20 [02:09<02:27, 13.43s/it]Found `num_iterations` in params. Will use it instead of argument\n",
      "Found `early_stopping_rounds` in params. Will use it instead of argument\n",
      "Using categorical_feature in Dataset.\n",
      "regularization_factors, val_score: 0.022894:  50%|##################5                  | 10/20 [02:22<02:13, 13.30s/it]\u001b[32m[I 2022-03-14 12:45:24,164]\u001b[0m Trial 49 finished with value: 0.02306552099484525 and parameters: {'lambda_l1': 0.12959871035467724, 'lambda_l2': 0.0013717788279365606}. Best is trial 42 with value: 0.022893825494634628.\u001b[0m\n",
      "regularization_factors, val_score: 0.022894:  50%|##################5                  | 10/20 [02:22<02:13, 13.30s/it]Found `num_iterations` in params. Will use it instead of argument\n",
      "Found `early_stopping_rounds` in params. Will use it instead of argument\n",
      "Using categorical_feature in Dataset.\n",
      "regularization_factors, val_score: 0.022894:  55%|####################3                | 11/20 [02:35<01:59, 13.31s/it]\u001b[32m[I 2022-03-14 12:45:37,509]\u001b[0m Trial 50 finished with value: 0.023053398205880433 and parameters: {'lambda_l1': 0.002838325594772667, 'lambda_l2': 5.758302811388441e-06}. Best is trial 42 with value: 0.022893825494634628.\u001b[0m\n",
      "regularization_factors, val_score: 0.022894:  55%|####################3                | 11/20 [02:35<01:59, 13.31s/it]Found `num_iterations` in params. Will use it instead of argument\n",
      "Found `early_stopping_rounds` in params. Will use it instead of argument\n",
      "Using categorical_feature in Dataset.\n",
      "regularization_factors, val_score: 0.022894:  60%|######################2              | 12/20 [02:48<01:45, 13.21s/it]\u001b[32m[I 2022-03-14 12:45:50,476]\u001b[0m Trial 51 finished with value: 0.023053055181541552 and parameters: {'lambda_l1': 0.0015466658556643957, 'lambda_l2': 2.802696389011499e-05}. Best is trial 42 with value: 0.022893825494634628.\u001b[0m\n",
      "regularization_factors, val_score: 0.022894:  60%|######################2              | 12/20 [02:48<01:45, 13.21s/it]Found `num_iterations` in params. Will use it instead of argument\n",
      "Found `early_stopping_rounds` in params. Will use it instead of argument\n",
      "Using categorical_feature in Dataset.\n"
     ]
    },
    {
     "name": "stderr",
     "output_type": "stream",
     "text": [
      "regularization_factors, val_score: 0.022894:  65%|########################             | 13/20 [03:00<01:30, 12.96s/it]\u001b[32m[I 2022-03-14 12:46:02,901]\u001b[0m Trial 52 finished with value: 0.023045992440449574 and parameters: {'lambda_l1': 0.013003219724867803, 'lambda_l2': 2.395740536547561e-08}. Best is trial 42 with value: 0.022893825494634628.\u001b[0m\n",
      "regularization_factors, val_score: 0.022894:  65%|########################             | 13/20 [03:00<01:30, 12.96s/it]Found `num_iterations` in params. Will use it instead of argument\n",
      "Found `early_stopping_rounds` in params. Will use it instead of argument\n",
      "Using categorical_feature in Dataset.\n",
      "regularization_factors, val_score: 0.022894:  70%|#########################9           | 14/20 [03:12<01:14, 12.46s/it]\u001b[32m[I 2022-03-14 12:46:14,175]\u001b[0m Trial 53 finished with value: 0.023052655195620813 and parameters: {'lambda_l1': 2.0106570397895336e-05, 'lambda_l2': 5.011577542788446e-05}. Best is trial 42 with value: 0.022893825494634628.\u001b[0m\n",
      "regularization_factors, val_score: 0.022894:  70%|#########################9           | 14/20 [03:12<01:14, 12.46s/it]Found `num_iterations` in params. Will use it instead of argument\n",
      "Found `early_stopping_rounds` in params. Will use it instead of argument\n",
      "Using categorical_feature in Dataset.\n",
      "regularization_factors, val_score: 0.022894:  75%|###########################7         | 15/20 [03:23<01:00, 12.12s/it]\u001b[32m[I 2022-03-14 12:46:25,506]\u001b[0m Trial 54 finished with value: 0.023052734586857526 and parameters: {'lambda_l1': 0.0001555472044572885, 'lambda_l2': 7.149021092060599e-07}. Best is trial 42 with value: 0.022893825494634628.\u001b[0m\n",
      "regularization_factors, val_score: 0.022894:  75%|###########################7         | 15/20 [03:23<01:00, 12.12s/it]Found `num_iterations` in params. Will use it instead of argument\n",
      "Found `early_stopping_rounds` in params. Will use it instead of argument\n",
      "Using categorical_feature in Dataset.\n",
      "regularization_factors, val_score: 0.022894:  80%|#############################6       | 16/20 [03:37<00:51, 12.79s/it]\u001b[32m[I 2022-03-14 12:46:39,851]\u001b[0m Trial 55 finished with value: 0.022941837959313573 and parameters: {'lambda_l1': 0.10006589588386203, 'lambda_l2': 4.587048005236416}. Best is trial 42 with value: 0.022893825494634628.\u001b[0m\n",
      "regularization_factors, val_score: 0.022894:  80%|#############################6       | 16/20 [03:37<00:51, 12.79s/it]Found `num_iterations` in params. Will use it instead of argument\n",
      "Found `early_stopping_rounds` in params. Will use it instead of argument\n",
      "Using categorical_feature in Dataset.\n",
      "regularization_factors, val_score: 0.022894:  85%|###############################4     | 17/20 [03:51<00:39, 13.20s/it]\u001b[32m[I 2022-03-14 12:46:53,990]\u001b[0m Trial 56 finished with value: 0.022971449180086916 and parameters: {'lambda_l1': 0.7175578545185763, 'lambda_l2': 0.20657821147820582}. Best is trial 42 with value: 0.022893825494634628.\u001b[0m\n",
      "regularization_factors, val_score: 0.022894:  85%|###############################4     | 17/20 [03:51<00:39, 13.20s/it]Found `num_iterations` in params. Will use it instead of argument\n",
      "Found `early_stopping_rounds` in params. Will use it instead of argument\n",
      "Using categorical_feature in Dataset.\n",
      "regularization_factors, val_score: 0.022894:  90%|#################################3   | 18/20 [04:04<00:26, 13.00s/it]\u001b[32m[I 2022-03-14 12:47:06,540]\u001b[0m Trial 57 finished with value: 0.02305901972960056 and parameters: {'lambda_l1': 5.875602239671194e-07, 'lambda_l2': 2.6596740115375087e-07}. Best is trial 42 with value: 0.022893825494634628.\u001b[0m\n",
      "regularization_factors, val_score: 0.022894:  90%|#################################3   | 18/20 [04:04<00:26, 13.00s/it]Found `num_iterations` in params. Will use it instead of argument\n",
      "Found `early_stopping_rounds` in params. Will use it instead of argument\n",
      "Using categorical_feature in Dataset.\n",
      "regularization_factors, val_score: 0.022894:  95%|###################################1 | 19/20 [04:17<00:13, 13.08s/it]\u001b[32m[I 2022-03-14 12:47:19,796]\u001b[0m Trial 58 finished with value: 0.023057910231924113 and parameters: {'lambda_l1': 0.016489020473146227, 'lambda_l2': 7.708577724275037e-05}. Best is trial 42 with value: 0.022893825494634628.\u001b[0m\n",
      "regularization_factors, val_score: 0.022894:  95%|###################################1 | 19/20 [04:17<00:13, 13.08s/it]Found `num_iterations` in params. Will use it instead of argument\n",
      "Found `early_stopping_rounds` in params. Will use it instead of argument\n",
      "Using categorical_feature in Dataset.\n",
      "regularization_factors, val_score: 0.022894: 100%|#####################################| 20/20 [04:29<00:00, 12.83s/it]\u001b[32m[I 2022-03-14 12:47:32,040]\u001b[0m Trial 59 finished with value: 0.023052733451595364 and parameters: {'lambda_l1': 0.00016487913883835853, 'lambda_l2': 4.579867277780308e-06}. Best is trial 42 with value: 0.022893825494634628.\u001b[0m\n",
      "regularization_factors, val_score: 0.022894: 100%|#####################################| 20/20 [04:29<00:00, 13.50s/it]\n",
      "min_data_in_leaf, val_score: 0.022894:   0%|                                                     | 0/5 [00:00<?, ?it/s]Found `num_iterations` in params. Will use it instead of argument\n",
      "Found `early_stopping_rounds` in params. Will use it instead of argument\n",
      "Using categorical_feature in Dataset.\n",
      "min_data_in_leaf, val_score: 0.022894:  20%|#########                                    | 1/5 [00:19<01:17, 19.35s/it]\u001b[32m[I 2022-03-14 12:47:51,393]\u001b[0m Trial 60 finished with value: 0.022893825494634628 and parameters: {'min_child_samples': 50}. Best is trial 60 with value: 0.022893825494634628.\u001b[0m\n",
      "min_data_in_leaf, val_score: 0.022894:  20%|#########                                    | 1/5 [00:19<01:17, 19.35s/it]Found `num_iterations` in params. Will use it instead of argument\n",
      "Found `early_stopping_rounds` in params. Will use it instead of argument\n",
      "Using categorical_feature in Dataset.\n",
      "min_data_in_leaf, val_score: 0.022894:  40%|##################                           | 2/5 [00:37<00:55, 18.59s/it]\u001b[32m[I 2022-03-14 12:48:09,460]\u001b[0m Trial 61 finished with value: 0.022893825494634628 and parameters: {'min_child_samples': 100}. Best is trial 60 with value: 0.022893825494634628.\u001b[0m\n",
      "min_data_in_leaf, val_score: 0.022894:  40%|##################                           | 2/5 [00:37<00:55, 18.59s/it]Found `num_iterations` in params. Will use it instead of argument\n",
      "Found `early_stopping_rounds` in params. Will use it instead of argument\n",
      "Using categorical_feature in Dataset.\n",
      "min_data_in_leaf, val_score: 0.022894:  60%|###########################                  | 3/5 [00:57<00:38, 19.41s/it]\u001b[32m[I 2022-03-14 12:48:29,836]\u001b[0m Trial 62 finished with value: 0.022893825494634628 and parameters: {'min_child_samples': 10}. Best is trial 60 with value: 0.022893825494634628.\u001b[0m\n",
      "min_data_in_leaf, val_score: 0.022894:  60%|###########################                  | 3/5 [00:57<00:38, 19.41s/it]Found `num_iterations` in params. Will use it instead of argument\n",
      "Found `early_stopping_rounds` in params. Will use it instead of argument\n",
      "Using categorical_feature in Dataset.\n",
      "min_data_in_leaf, val_score: 0.022894:  80%|####################################         | 4/5 [01:16<00:19, 19.08s/it]\u001b[32m[I 2022-03-14 12:48:48,415]\u001b[0m Trial 63 finished with value: 0.022893825494634628 and parameters: {'min_child_samples': 5}. Best is trial 60 with value: 0.022893825494634628.\u001b[0m\n",
      "min_data_in_leaf, val_score: 0.022894:  80%|####################################         | 4/5 [01:16<00:19, 19.08s/it]Found `num_iterations` in params. Will use it instead of argument\n",
      "Found `early_stopping_rounds` in params. Will use it instead of argument\n",
      "Using categorical_feature in Dataset.\n",
      "min_data_in_leaf, val_score: 0.022894: 100%|#############################################| 5/5 [01:37<00:00, 19.84s/it]\u001b[32m[I 2022-03-14 12:49:09,593]\u001b[0m Trial 64 finished with value: 0.022893825494634628 and parameters: {'min_child_samples': 25}. Best is trial 60 with value: 0.022893825494634628.\u001b[0m\n",
      "min_data_in_leaf, val_score: 0.022894: 100%|#############################################| 5/5 [01:37<00:00, 19.51s/it]"
     ]
    },
    {
     "name": "stdout",
     "output_type": "stream",
     "text": [
      "HP optimization took :  936.9476838111877  seconds\n"
     ]
    },
    {
     "name": "stderr",
     "output_type": "stream",
     "text": [
      "\n"
     ]
    }
   ],
   "source": [
    "params = default_params.copy()\n",
    "\n",
    "study_tuner = optuna.create_study(direction='minimize')\n",
    "\n",
    "CCX_tuner = lgbm_integration.LightGBMTunerCV(params, \n",
    "                            lgbm_train_data, \n",
    "                            study=study_tuner,\n",
    "                            nfold=_NFLOD,\n",
    "                            stratified = _STRATIFIED,\n",
    "                            shuffle=_SHUFFLE,  \n",
    "                            verbose_eval=False,                            \n",
    "                            time_budget=14400, # Time budget of 4 hours, we will not really need it <--#change this to lower value for implementation\n",
    "                            callbacks=[])\n",
    "\n",
    "s = time.time()\n",
    "CCX_tuner.run()\n",
    "e = time.time()\n",
    "print('HP optimization took : ', e-s ,' seconds')"
   ]
  },
  {
   "cell_type": "markdown",
   "id": "3509bacc",
   "metadata": {},
   "source": [
    "**Get the model corresponding to the optimal HP**"
   ]
  },
  {
   "cell_type": "code",
   "execution_count": 17,
   "id": "9c259ba7",
   "metadata": {
    "ExecuteTime": {
     "end_time": "2022-03-14T11:49:31.563419Z",
     "start_time": "2022-03-14T11:49:09.610617Z"
    }
   },
   "outputs": [
    {
     "name": "stderr",
     "output_type": "stream",
     "text": [
      "Found `num_iterations` in params. Will use it instead of argument\n",
      "Found `early_stopping_rounds` in params. Will use it instead of argument\n",
      "Using categorical_feature in Dataset.\n"
     ]
    },
    {
     "name": "stdout",
     "output_type": "stream",
     "text": [
      "{'objective': 'multiclass', 'metric': 'multi_logloss', 'num_class': 3, 'early_stopping_rounds': 100, 'num_iterations': 10000, 'max_bin': 20, 'seed': 1234, 'verbose': -1, 'n_jobs': -1, 'feature_pre_filter': False, 'lambda_l1': 6.910486422040689, 'lambda_l2': 1.2397652962282293e-06, 'num_leaves': 3, 'feature_fraction': 0.48000000000000004, 'bagging_fraction': 1.0, 'bagging_freq': 0, 'min_child_samples': 20}\n",
      "0.022893825494634628\n"
     ]
    },
    {
     "name": "stderr",
     "output_type": "stream",
     "text": [
      "Found `num_iterations` in params. Will use it instead of argument\n",
      "Found `early_stopping_rounds` in params. Will use it instead of argument\n",
      "Using categorical_feature in Dataset.\n"
     ]
    }
   ],
   "source": [
    "print(CCX_tuner.best_params)\n",
    "print(CCX_tuner.best_score)\n",
    "\n",
    "model_CCX , hist  = LGBM_trained_booster_CV(CCX_tuner.best_params, lgbm_train_data)"
   ]
  },
  {
   "cell_type": "markdown",
   "id": "372457ca",
   "metadata": {
    "ExecuteTime": {
     "end_time": "2022-03-14T10:34:27.599859Z",
     "start_time": "2022-03-14T10:34:27.591858Z"
    }
   },
   "source": [
    "**(Optional) show the learning curve for optimal model**"
   ]
  },
  {
   "cell_type": "code",
   "execution_count": 18,
   "id": "898bafb8",
   "metadata": {
    "ExecuteTime": {
     "end_time": "2022-03-14T11:49:31.735907Z",
     "start_time": "2022-03-14T11:49:31.564918Z"
    }
   },
   "outputs": [
    {
     "data": {
      "image/png": "[encoded data removed]",
      "text/plain": [
       "<Figure size 432x288 with 1 Axes>"
      ]
     },
     "metadata": {
      "needs_background": "light"
     },
     "output_type": "display_data"
    }
   ],
   "source": [
    "H = pd.DataFrame()\n",
    "\n",
    "H['mean'] = hist['multi_logloss-mean']\n",
    "H['std'] = hist['multi_logloss-stdv']\n",
    "H['upper'] = H['mean'] + H['std']\n",
    "H['lower'] = H['mean'] - H['std']\n",
    "plt.xlabel('N  boost rounds', fontsize = 15)\n",
    "plt.ylabel('multi-logloss ( avg CV error +/- stdev CV error)', fontsize = 10)\n",
    "plt.plot(H['mean'])\n",
    "plt.fill_between(H.index, H['lower'], H['upper'], alpha = 0.25)\n",
    "plt.show()"
   ]
  },
  {
   "cell_type": "markdown",
   "id": "b41f08a7",
   "metadata": {},
   "source": [
    "#### Save CCX model"
   ]
  },
  {
   "cell_type": "code",
   "execution_count": 19,
   "id": "f5dbdc18",
   "metadata": {
    "ExecuteTime": {
     "end_time": "2022-03-14T11:49:31.765736Z",
     "start_time": "2022-03-14T11:49:31.736882Z"
    }
   },
   "outputs": [
    {
     "data": {
      "text/plain": [
       "<lightgbm.basic.Booster at 0x11536178880>"
      ]
     },
     "execution_count": 19,
     "metadata": {},
     "output_type": "execute_result"
    }
   ],
   "source": [
    "model_CCX.save_model(PATH_OBJECTS + \"model_CCX_CG\")"
   ]
  },
  {
   "cell_type": "markdown",
   "id": "81882d41",
   "metadata": {},
   "source": [
    "### model based on CLX control group  (cash)"
   ]
  },
  {
   "cell_type": "markdown",
   "id": "d4b97dfd",
   "metadata": {
    "ExecuteTime": {
     "end_time": "2022-03-14T10:38:01.683728Z",
     "start_time": "2022-03-14T10:38:01.671426Z"
    }
   },
   "source": [
    "#### Model training data"
   ]
  },
  {
   "cell_type": "code",
   "execution_count": 20,
   "id": "6bd54c59",
   "metadata": {
    "ExecuteTime": {
     "end_time": "2022-03-14T11:49:36.663210Z",
     "start_time": "2022-03-14T11:49:31.766737Z"
    },
    "scrolled": true
   },
   "outputs": [],
   "source": [
    "from sklearn.model_selection import  train_test_split\n",
    "\n",
    "mask = data['CA_TYPE'].isin(['CLX']) & (data['CA_F_CASH_CARD_TG_CG'].isin([ 'CG']))\n",
    "\n",
    "train , test  = train_test_split(data[mask] , test_size = 0.5, random_state = 42,\\\n",
    "                                stratify = data[mask][ [col_month, col_target,col_campaign] ])\n",
    "\n",
    "train = train.reset_index(drop = True)\n",
    "test =  test.reset_index(drop = True)\n",
    "test_CLX = test.copy()\n",
    "\n",
    "#[]\n",
    "T = train\n",
    "X = predictors\n",
    "Y = col_target\n",
    "w = col_weight\n",
    "lgbm_train_data = lgb.Dataset(T[X], label = T[Y], weight = T[w], categorical_feature = cols_pred_cat, free_raw_data=False)"
   ]
  },
  {
   "cell_type": "code",
   "execution_count": 21,
   "id": "362159be",
   "metadata": {
    "ExecuteTime": {
     "end_time": "2022-03-14T11:49:36.678451Z",
     "start_time": "2022-03-14T11:49:36.663787Z"
    }
   },
   "outputs": [
    {
     "name": "stdout",
     "output_type": "stream",
     "text": [
      "0    264297\n",
      "1       613\n",
      "2        50\n",
      "Name: target, dtype: int64\n",
      "0    264299\n",
      "1       615\n",
      "2        47\n",
      "Name: target, dtype: int64\n"
     ]
    }
   ],
   "source": [
    "print(train[col_target].value_counts())\n",
    "print(test[col_target].value_counts())"
   ]
  },
  {
   "cell_type": "markdown",
   "id": "5ef20dd4",
   "metadata": {},
   "source": [
    "#### Tune  the following Ligtgbm Hyperparameters \n",
    "**['feature_fraction','num_leaves', 'bagging_fraction', 'bagging_freq', 'lambda_l1', 'lambda_l2', \n",
    "                  'min_child_samples']**\n",
    "                                    \n",
    "**This is a houristic approach based on experiences from Kaggle competition, tuning the HyperParameters sequentialy (one by one) in the order given above , while keeping other Hyperparameters at their default settings (including learning rate = 0.1).**\n",
    "\n",
    "**It is considerably faster than the full-blown approach (on the product of individual HP spaces)**\n",
    "**while attaining similar performance**\n",
    "\n",
    "**It is implemented in the Opruna HP optimization backage v 2.10 (LightGBMTuner , LightGBMTunerCV).**"
   ]
  },
  {
   "cell_type": "code",
   "execution_count": 22,
   "id": "dc32c9b6",
   "metadata": {
    "ExecuteTime": {
     "end_time": "2022-03-14T12:24:13.374273Z",
     "start_time": "2022-03-14T11:49:36.679452Z"
    },
    "scrolled": false
   },
   "outputs": [
    {
     "name": "stderr",
     "output_type": "stream",
     "text": [
      "\u001b[32m[I 2022-03-14 12:49:36,680]\u001b[0m A new study created in memory with name: no-name-e581dd63-5015-4131-a850-47eb25b46e17\u001b[0m\n",
      "feature_fraction, val_score: inf:   0%|                                                          | 0/7 [00:00<?, ?it/s]Found `num_iterations` in params. Will use it instead of argument\n",
      "Found `early_stopping_rounds` in params. Will use it instead of argument\n",
      "Using categorical_feature in Dataset.\n",
      "feature_fraction, val_score: 0.021608:  14%|######4                                      | 1/7 [00:18<01:53, 18.86s/it]\u001b[32m[I 2022-03-14 12:49:55,548]\u001b[0m Trial 0 finished with value: 0.021608481635871993 and parameters: {'feature_fraction': 0.6}. Best is trial 0 with value: 0.021608481635871993.\u001b[0m\n",
      "feature_fraction, val_score: 0.021608:  14%|######4                                      | 1/7 [00:18<01:53, 18.86s/it]Found `num_iterations` in params. Will use it instead of argument\n",
      "Found `early_stopping_rounds` in params. Will use it instead of argument\n",
      "Using categorical_feature in Dataset.\n",
      "feature_fraction, val_score: 0.021608:  29%|############8                                | 2/7 [00:34<01:23, 16.72s/it]\u001b[32m[I 2022-03-14 12:50:10,766]\u001b[0m Trial 1 finished with value: 0.02288693744277926 and parameters: {'feature_fraction': 0.7}. Best is trial 0 with value: 0.021608481635871993.\u001b[0m\n",
      "feature_fraction, val_score: 0.021608:  29%|############8                                | 2/7 [00:34<01:23, 16.72s/it]Found `num_iterations` in params. Will use it instead of argument\n",
      "Found `early_stopping_rounds` in params. Will use it instead of argument\n",
      "Using categorical_feature in Dataset.\n",
      "feature_fraction, val_score: 0.021608:  43%|###################2                         | 3/7 [00:49<01:04, 16.03s/it]\u001b[32m[I 2022-03-14 12:50:25,975]\u001b[0m Trial 2 finished with value: 0.023135001429097284 and parameters: {'feature_fraction': 0.8999999999999999}. Best is trial 0 with value: 0.021608481635871993.\u001b[0m\n",
      "feature_fraction, val_score: 0.021608:  43%|###################2                         | 3/7 [00:49<01:04, 16.03s/it]Found `num_iterations` in params. Will use it instead of argument\n",
      "Found `early_stopping_rounds` in params. Will use it instead of argument\n",
      "Using categorical_feature in Dataset.\n",
      "feature_fraction, val_score: 0.021608:  57%|#########################7                   | 4/7 [01:03<00:46, 15.50s/it]\u001b[32m[I 2022-03-14 12:50:40,673]\u001b[0m Trial 3 finished with value: 0.023854494031300723 and parameters: {'feature_fraction': 0.8}. Best is trial 0 with value: 0.021608481635871993.\u001b[0m\n",
      "feature_fraction, val_score: 0.021608:  57%|#########################7                   | 4/7 [01:03<00:46, 15.50s/it]Found `num_iterations` in params. Will use it instead of argument\n",
      "Found `early_stopping_rounds` in params. Will use it instead of argument\n",
      "Using categorical_feature in Dataset.\n",
      "feature_fraction, val_score: 0.021608:  71%|################################1            | 5/7 [01:24<00:34, 17.46s/it]\u001b[32m[I 2022-03-14 12:51:01,631]\u001b[0m Trial 4 finished with value: 0.023926293910357554 and parameters: {'feature_fraction': 0.5}. Best is trial 0 with value: 0.021608481635871993.\u001b[0m\n",
      "feature_fraction, val_score: 0.021608:  71%|################################1            | 5/7 [01:24<00:34, 17.46s/it]Found `num_iterations` in params. Will use it instead of argument\n",
      "Found `early_stopping_rounds` in params. Will use it instead of argument\n",
      "Using categorical_feature in Dataset.\n",
      "feature_fraction, val_score: 0.021608:  86%|######################################5      | 6/7 [01:39<00:16, 16.62s/it]\u001b[32m[I 2022-03-14 12:51:16,583]\u001b[0m Trial 5 finished with value: 0.023498668833776066 and parameters: {'feature_fraction': 1.0}. Best is trial 0 with value: 0.021608481635871993.\u001b[0m\n",
      "feature_fraction, val_score: 0.021608:  86%|######################################5      | 6/7 [01:39<00:16, 16.62s/it]Found `num_iterations` in params. Will use it instead of argument\n",
      "Found `early_stopping_rounds` in params. Will use it instead of argument\n",
      "Using categorical_feature in Dataset.\n",
      "feature_fraction, val_score: 0.021608: 100%|#############################################| 7/7 [01:59<00:00, 17.51s/it]\u001b[32m[I 2022-03-14 12:51:35,931]\u001b[0m Trial 6 finished with value: 0.02477462994175763 and parameters: {'feature_fraction': 0.4}. Best is trial 0 with value: 0.021608481635871993.\u001b[0m\n",
      "feature_fraction, val_score: 0.021608: 100%|#############################################| 7/7 [01:59<00:00, 17.04s/it]\n",
      "num_leaves, val_score: 0.021608:   0%|                                                          | 0/20 [00:00<?, ?it/s]Found `num_iterations` in params. Will use it instead of argument\n",
      "Found `early_stopping_rounds` in params. Will use it instead of argument\n",
      "Using categorical_feature in Dataset.\n",
      "num_leaves, val_score: 0.021608:   5%|##5                                               | 1/20 [00:29<09:28, 29.91s/it]\u001b[32m[I 2022-03-14 12:52:05,843]\u001b[0m Trial 7 finished with value: 0.03216242758659947 and parameters: {'num_leaves': 100}. Best is trial 7 with value: 0.03216242758659947.\u001b[0m\n",
      "num_leaves, val_score: 0.021608:   5%|##5                                               | 1/20 [00:29<09:28, 29.91s/it]Found `num_iterations` in params. Will use it instead of argument\n",
      "Found `early_stopping_rounds` in params. Will use it instead of argument\n",
      "Using categorical_feature in Dataset.\n",
      "num_leaves, val_score: 0.021608:  10%|#####                                             | 2/20 [01:06<10:08, 33.78s/it]\u001b[32m[I 2022-03-14 12:52:42,343]\u001b[0m Trial 8 finished with value: 0.030999520458531764 and parameters: {'num_leaves': 142}. Best is trial 8 with value: 0.030999520458531764.\u001b[0m\n",
      "num_leaves, val_score: 0.021608:  10%|#####                                             | 2/20 [01:06<10:08, 33.78s/it]Found `num_iterations` in params. Will use it instead of argument\n",
      "Found `early_stopping_rounds` in params. Will use it instead of argument\n",
      "Using categorical_feature in Dataset.\n",
      "num_leaves, val_score: 0.021608:  15%|#######5                                          | 3/20 [01:53<11:21, 40.08s/it]\u001b[32m[I 2022-03-14 12:53:29,920]\u001b[0m Trial 9 finished with value: 0.03080629320289725 and parameters: {'num_leaves': 220}. Best is trial 9 with value: 0.03080629320289725.\u001b[0m\n",
      "num_leaves, val_score: 0.021608:  15%|#######5                                          | 3/20 [01:53<11:21, 40.08s/it]Found `num_iterations` in params. Will use it instead of argument\n",
      "Found `early_stopping_rounds` in params. Will use it instead of argument\n",
      "Using categorical_feature in Dataset.\n",
      "num_leaves, val_score: 0.021608:  20%|##########                                        | 4/20 [02:15<08:43, 32.71s/it]\u001b[32m[I 2022-03-14 12:53:51,323]\u001b[0m Trial 10 finished with value: 0.02377864167548179 and parameters: {'num_leaves': 42}. Best is trial 10 with value: 0.02377864167548179.\u001b[0m\n",
      "num_leaves, val_score: 0.021608:  20%|##########                                        | 4/20 [02:15<08:43, 32.71s/it]Found `num_iterations` in params. Will use it instead of argument\n",
      "Found `early_stopping_rounds` in params. Will use it instead of argument\n",
      "Using categorical_feature in Dataset.\n",
      "num_leaves, val_score: 0.021608:  25%|############5                                     | 5/20 [02:57<09:01, 36.12s/it]\u001b[32m[I 2022-03-14 12:54:33,487]\u001b[0m Trial 11 finished with value: 0.03066444479853449 and parameters: {'num_leaves': 177}. Best is trial 10 with value: 0.02377864167548179.\u001b[0m\n",
      "num_leaves, val_score: 0.021608:  25%|############5                                     | 5/20 [02:57<09:01, 36.12s/it]Found `num_iterations` in params. Will use it instead of argument\n",
      "Found `early_stopping_rounds` in params. Will use it instead of argument\n",
      "Using categorical_feature in Dataset.\n",
      "num_leaves, val_score: 0.021608:  30%|###############                                   | 6/20 [03:49<09:39, 41.41s/it]\u001b[32m[I 2022-03-14 12:55:25,170]\u001b[0m Trial 12 finished with value: 0.03073215169663814 and parameters: {'num_leaves': 256}. Best is trial 10 with value: 0.02377864167548179.\u001b[0m\n",
      "num_leaves, val_score: 0.021608:  30%|###############                                   | 6/20 [03:49<09:39, 41.41s/it]Found `num_iterations` in params. Will use it instead of argument\n",
      "Found `early_stopping_rounds` in params. Will use it instead of argument\n",
      "Using categorical_feature in Dataset.\n"
     ]
    },
    {
     "name": "stderr",
     "output_type": "stream",
     "text": [
      "num_leaves, val_score: 0.021608:  35%|#################5                                | 7/20 [04:14<07:50, 36.22s/it]\u001b[32m[I 2022-03-14 12:55:50,720]\u001b[0m Trial 13 finished with value: 0.031093703377109056 and parameters: {'num_leaves': 74}. Best is trial 10 with value: 0.02377864167548179.\u001b[0m\n",
      "num_leaves, val_score: 0.021608:  35%|#################5                                | 7/20 [04:14<07:50, 36.22s/it]Found `num_iterations` in params. Will use it instead of argument\n",
      "Found `early_stopping_rounds` in params. Will use it instead of argument\n",
      "Using categorical_feature in Dataset.\n",
      "num_leaves, val_score: 0.019957:  40%|####################                              | 8/20 [04:29<05:52, 29.36s/it]\u001b[32m[I 2022-03-14 12:56:05,370]\u001b[0m Trial 14 finished with value: 0.01995652529558945 and parameters: {'num_leaves': 10}. Best is trial 14 with value: 0.01995652529558945.\u001b[0m\n",
      "num_leaves, val_score: 0.019957:  40%|####################                              | 8/20 [04:29<05:52, 29.36s/it]Found `num_iterations` in params. Will use it instead of argument\n",
      "Found `early_stopping_rounds` in params. Will use it instead of argument\n",
      "Using categorical_feature in Dataset.\n",
      "num_leaves, val_score: 0.019957:  45%|######################5                           | 9/20 [05:09<06:01, 32.83s/it]\u001b[32m[I 2022-03-14 12:56:45,841]\u001b[0m Trial 15 finished with value: 0.03072964201688271 and parameters: {'num_leaves': 179}. Best is trial 14 with value: 0.01995652529558945.\u001b[0m\n",
      "num_leaves, val_score: 0.019957:  45%|######################5                           | 9/20 [05:09<06:01, 32.83s/it]Found `num_iterations` in params. Will use it instead of argument\n",
      "Found `early_stopping_rounds` in params. Will use it instead of argument\n",
      "Using categorical_feature in Dataset.\n",
      "num_leaves, val_score: 0.019513:  50%|########################5                        | 10/20 [05:25<04:33, 27.39s/it]\u001b[32m[I 2022-03-14 12:57:01,050]\u001b[0m Trial 16 finished with value: 0.01951251177252627 and parameters: {'num_leaves': 8}. Best is trial 16 with value: 0.01951251177252627.\u001b[0m\n",
      "num_leaves, val_score: 0.019513:  50%|########################5                        | 10/20 [05:25<04:33, 27.39s/it]Found `num_iterations` in params. Will use it instead of argument\n",
      "Found `early_stopping_rounds` in params. Will use it instead of argument\n",
      "Using categorical_feature in Dataset.\n",
      "num_leaves, val_score: 0.018691:  55%|##########################9                      | 11/20 [05:39<03:29, 23.31s/it]\u001b[32m[I 2022-03-14 12:57:15,120]\u001b[0m Trial 17 finished with value: 0.01869111576745044 and parameters: {'num_leaves': 6}. Best is trial 17 with value: 0.01869111576745044.\u001b[0m\n",
      "num_leaves, val_score: 0.018691:  55%|##########################9                      | 11/20 [05:39<03:29, 23.31s/it]Found `num_iterations` in params. Will use it instead of argument\n",
      "Found `early_stopping_rounds` in params. Will use it instead of argument\n",
      "Using categorical_feature in Dataset.\n",
      "num_leaves, val_score: 0.018691:  60%|#############################4                   | 12/20 [05:56<02:51, 21.39s/it]\u001b[32m[I 2022-03-14 12:57:32,116]\u001b[0m Trial 18 finished with value: 0.02045312564631573 and parameters: {'num_leaves': 18}. Best is trial 17 with value: 0.01869111576745044.\u001b[0m\n",
      "num_leaves, val_score: 0.018691:  60%|#############################4                   | 12/20 [05:56<02:51, 21.39s/it]Found `num_iterations` in params. Will use it instead of argument\n",
      "Found `early_stopping_rounds` in params. Will use it instead of argument\n",
      "Using categorical_feature in Dataset.\n",
      "num_leaves, val_score: 0.018691:  65%|###############################8                 | 13/20 [06:18<02:32, 21.77s/it]\u001b[32m[I 2022-03-14 12:57:54,758]\u001b[0m Trial 19 finished with value: 0.02706330607227801 and parameters: {'num_leaves': 61}. Best is trial 17 with value: 0.01869111576745044.\u001b[0m\n",
      "num_leaves, val_score: 0.018691:  65%|###############################8                 | 13/20 [06:18<02:32, 21.77s/it]Found `num_iterations` in params. Will use it instead of argument\n",
      "Found `early_stopping_rounds` in params. Will use it instead of argument\n",
      "Using categorical_feature in Dataset.\n",
      "num_leaves, val_score: 0.017091:  70%|##################################3              | 14/20 [06:43<02:15, 22.63s/it]\u001b[32m[I 2022-03-14 12:58:19,367]\u001b[0m Trial 20 finished with value: 0.01709108680082746 and parameters: {'num_leaves': 2}. Best is trial 20 with value: 0.01709108680082746.\u001b[0m\n",
      "num_leaves, val_score: 0.017091:  70%|##################################3              | 14/20 [06:43<02:15, 22.63s/it]Found `num_iterations` in params. Will use it instead of argument\n",
      "Found `early_stopping_rounds` in params. Will use it instead of argument\n",
      "Using categorical_feature in Dataset.\n",
      "num_leaves, val_score: 0.017091:  75%|####################################7            | 15/20 [07:11<02:00, 24.13s/it]\u001b[32m[I 2022-03-14 12:58:46,980]\u001b[0m Trial 21 finished with value: 0.032613856872754046 and parameters: {'num_leaves': 92}. Best is trial 20 with value: 0.01709108680082746.\u001b[0m\n",
      "num_leaves, val_score: 0.017091:  75%|####################################7            | 15/20 [07:11<02:00, 24.13s/it]Found `num_iterations` in params. Will use it instead of argument\n",
      "Found `early_stopping_rounds` in params. Will use it instead of argument\n",
      "Using categorical_feature in Dataset.\n",
      "num_leaves, val_score: 0.017091:  80%|#######################################2         | 16/20 [07:31<01:32, 23.09s/it]\u001b[32m[I 2022-03-14 12:59:07,637]\u001b[0m Trial 22 finished with value: 0.023437676699017945 and parameters: {'num_leaves': 43}. Best is trial 20 with value: 0.01709108680082746.\u001b[0m\n",
      "num_leaves, val_score: 0.017091:  80%|#######################################2         | 16/20 [07:31<01:32, 23.09s/it]Found `num_iterations` in params. Will use it instead of argument\n",
      "Found `early_stopping_rounds` in params. Will use it instead of argument\n",
      "Using categorical_feature in Dataset.\n",
      "num_leaves, val_score: 0.017091:  85%|#########################################6       | 17/20 [08:03<01:17, 25.85s/it]\u001b[32m[I 2022-03-14 12:59:39,933]\u001b[0m Trial 23 finished with value: 0.03183198820233639 and parameters: {'num_leaves': 115}. Best is trial 20 with value: 0.01709108680082746.\u001b[0m\n",
      "num_leaves, val_score: 0.017091:  85%|#########################################6       | 17/20 [08:04<01:17, 25.85s/it]Found `num_iterations` in params. Will use it instead of argument\n",
      "Found `early_stopping_rounds` in params. Will use it instead of argument\n",
      "Using categorical_feature in Dataset.\n",
      "num_leaves, val_score: 0.017091:  90%|############################################1    | 18/20 [08:24<00:48, 24.12s/it]\u001b[32m[I 2022-03-14 13:00:00,010]\u001b[0m Trial 24 finished with value: 0.022395035082121484 and parameters: {'num_leaves': 36}. Best is trial 20 with value: 0.01709108680082746.\u001b[0m\n",
      "num_leaves, val_score: 0.017091:  90%|############################################1    | 18/20 [08:24<00:48, 24.12s/it]Found `num_iterations` in params. Will use it instead of argument\n",
      "Found `early_stopping_rounds` in params. Will use it instead of argument\n",
      "Using categorical_feature in Dataset.\n",
      "num_leaves, val_score: 0.017091:  95%|##############################################5  | 19/20 [08:58<00:27, 27.24s/it]\u001b[32m[I 2022-03-14 13:00:34,515]\u001b[0m Trial 25 finished with value: 0.031291988473893174 and parameters: {'num_leaves': 143}. Best is trial 20 with value: 0.01709108680082746.\u001b[0m\n",
      "num_leaves, val_score: 0.017091:  95%|##############################################5  | 19/20 [08:58<00:27, 27.24s/it]Found `num_iterations` in params. Will use it instead of argument\n",
      "Found `early_stopping_rounds` in params. Will use it instead of argument\n",
      "Using categorical_feature in Dataset.\n",
      "num_leaves, val_score: 0.017091: 100%|#################################################| 20/20 [09:22<00:00, 26.30s/it]\u001b[32m[I 2022-03-14 13:00:58,635]\u001b[0m Trial 26 finished with value: 0.028436689160177015 and parameters: {'num_leaves': 66}. Best is trial 20 with value: 0.01709108680082746.\u001b[0m\n",
      "num_leaves, val_score: 0.017091: 100%|#################################################| 20/20 [09:22<00:00, 28.14s/it]\n"
     ]
    },
    {
     "name": "stderr",
     "output_type": "stream",
     "text": [
      "bagging, val_score: 0.017091:   0%|                                                             | 0/10 [00:00<?, ?it/s]Found `num_iterations` in params. Will use it instead of argument\n",
      "Found `early_stopping_rounds` in params. Will use it instead of argument\n",
      "Using categorical_feature in Dataset.\n",
      "bagging, val_score: 0.017091:  10%|#####3                                               | 1/10 [00:23<03:28, 23.16s/it]\u001b[32m[I 2022-03-14 13:01:21,803]\u001b[0m Trial 27 finished with value: 0.017106440830704388 and parameters: {'bagging_fraction': 0.6761033440993518, 'bagging_freq': 4}. Best is trial 27 with value: 0.017106440830704388.\u001b[0m\n",
      "bagging, val_score: 0.017091:  10%|#####3                                               | 1/10 [00:23<03:28, 23.16s/it]Found `num_iterations` in params. Will use it instead of argument\n",
      "Found `early_stopping_rounds` in params. Will use it instead of argument\n",
      "Using categorical_feature in Dataset.\n",
      "bagging, val_score: 0.017091:  20%|##########6                                          | 2/10 [00:49<03:18, 24.76s/it]\u001b[32m[I 2022-03-14 13:01:47,671]\u001b[0m Trial 28 finished with value: 0.017132759741232316 and parameters: {'bagging_fraction': 0.5959853141822575, 'bagging_freq': 7}. Best is trial 27 with value: 0.017106440830704388.\u001b[0m\n",
      "bagging, val_score: 0.017091:  20%|##########6                                          | 2/10 [00:49<03:18, 24.76s/it]Found `num_iterations` in params. Will use it instead of argument\n",
      "Found `early_stopping_rounds` in params. Will use it instead of argument\n",
      "Using categorical_feature in Dataset.\n",
      "bagging, val_score: 0.017091:  30%|###############9                                     | 3/10 [01:25<03:31, 30.26s/it]\u001b[32m[I 2022-03-14 13:02:24,483]\u001b[0m Trial 29 finished with value: 0.017101987181472836 and parameters: {'bagging_fraction': 0.9785541238255083, 'bagging_freq': 4}. Best is trial 29 with value: 0.017101987181472836.\u001b[0m\n",
      "bagging, val_score: 0.017091:  30%|###############9                                     | 3/10 [01:25<03:31, 30.26s/it]Found `num_iterations` in params. Will use it instead of argument\n",
      "Found `early_stopping_rounds` in params. Will use it instead of argument\n",
      "Using categorical_feature in Dataset.\n",
      "bagging, val_score: 0.017076:  40%|#####################2                               | 4/10 [02:01<03:15, 32.54s/it]\u001b[32m[I 2022-03-14 13:03:00,516]\u001b[0m Trial 30 finished with value: 0.017076225715906154 and parameters: {'bagging_fraction': 0.9271612717967527, 'bagging_freq': 4}. Best is trial 30 with value: 0.017076225715906154.\u001b[0m\n",
      "bagging, val_score: 0.017076:  40%|#####################2                               | 4/10 [02:01<03:15, 32.54s/it]Found `num_iterations` in params. Will use it instead of argument\n",
      "Found `early_stopping_rounds` in params. Will use it instead of argument\n",
      "Using categorical_feature in Dataset.\n",
      "bagging, val_score: 0.017076:  50%|##########################5                          | 5/10 [02:40<02:53, 34.64s/it]\u001b[32m[I 2022-03-14 13:03:38,877]\u001b[0m Trial 31 finished with value: 0.017094276468823097 and parameters: {'bagging_fraction': 0.9997247086621167, 'bagging_freq': 7}. Best is trial 30 with value: 0.017076225715906154.\u001b[0m\n",
      "bagging, val_score: 0.017076:  50%|##########################5                          | 5/10 [02:40<02:53, 34.64s/it]Found `num_iterations` in params. Will use it instead of argument\n",
      "Found `early_stopping_rounds` in params. Will use it instead of argument\n",
      "Using categorical_feature in Dataset.\n",
      "bagging, val_score: 0.017076:  60%|###############################8                     | 6/10 [03:08<02:10, 32.53s/it]\u001b[32m[I 2022-03-14 13:04:07,316]\u001b[0m Trial 32 finished with value: 0.01711451189968272 and parameters: {'bagging_fraction': 0.7083481915515483, 'bagging_freq': 6}. Best is trial 30 with value: 0.017076225715906154.\u001b[0m\n",
      "bagging, val_score: 0.017076:  60%|###############################8                     | 6/10 [03:08<02:10, 32.53s/it]Found `num_iterations` in params. Will use it instead of argument\n",
      "Found `early_stopping_rounds` in params. Will use it instead of argument\n",
      "Using categorical_feature in Dataset.\n",
      "bagging, val_score: 0.017076:  70%|#####################################                | 7/10 [03:36<01:32, 30.97s/it]\u001b[32m[I 2022-03-14 13:04:35,079]\u001b[0m Trial 33 finished with value: 0.01711089200562297 and parameters: {'bagging_fraction': 0.9074508510943419, 'bagging_freq': 1}. Best is trial 30 with value: 0.017076225715906154.\u001b[0m\n",
      "bagging, val_score: 0.017076:  70%|#####################################                | 7/10 [03:36<01:32, 30.97s/it]Found `num_iterations` in params. Will use it instead of argument\n",
      "Found `early_stopping_rounds` in params. Will use it instead of argument\n",
      "Using categorical_feature in Dataset.\n",
      "bagging, val_score: 0.017076:  80%|##########################################4          | 8/10 [04:02<00:58, 29.45s/it]\u001b[32m[I 2022-03-14 13:05:01,280]\u001b[0m Trial 34 finished with value: 0.017128984131277617 and parameters: {'bagging_fraction': 0.5659540655129458, 'bagging_freq': 4}. Best is trial 30 with value: 0.017076225715906154.\u001b[0m\n",
      "bagging, val_score: 0.017076:  80%|##########################################4          | 8/10 [04:02<00:58, 29.45s/it]Found `num_iterations` in params. Will use it instead of argument\n",
      "Found `early_stopping_rounds` in params. Will use it instead of argument\n",
      "Using categorical_feature in Dataset.\n",
      "bagging, val_score: 0.017076:  90%|###############################################7     | 9/10 [04:30<00:28, 28.90s/it]\u001b[32m[I 2022-03-14 13:05:28,966]\u001b[0m Trial 35 finished with value: 0.017099996857901145 and parameters: {'bagging_fraction': 0.8284903899884377, 'bagging_freq': 3}. Best is trial 30 with value: 0.017076225715906154.\u001b[0m\n",
      "bagging, val_score: 0.017076:  90%|###############################################7     | 9/10 [04:30<00:28, 28.90s/it]Found `num_iterations` in params. Will use it instead of argument\n",
      "Found `early_stopping_rounds` in params. Will use it instead of argument\n",
      "Using categorical_feature in Dataset.\n",
      "bagging, val_score: 0.017076: 100%|####################################################| 10/10 [04:51<00:00, 26.37s/it]\u001b[32m[I 2022-03-14 13:05:49,672]\u001b[0m Trial 36 finished with value: 0.017154108190530787 and parameters: {'bagging_fraction': 0.4662464831144683, 'bagging_freq': 2}. Best is trial 30 with value: 0.017076225715906154.\u001b[0m\n",
      "bagging, val_score: 0.017076: 100%|####################################################| 10/10 [04:51<00:00, 29.10s/it]\n",
      "feature_fraction_stage2, val_score: 0.017076:   0%|                                              | 0/6 [00:00<?, ?it/s]Found `num_iterations` in params. Will use it instead of argument\n",
      "Found `early_stopping_rounds` in params. Will use it instead of argument\n",
      "Using categorical_feature in Dataset.\n",
      "feature_fraction_stage2, val_score: 0.017076:  17%|######3                               | 1/6 [00:28<02:24, 28.95s/it]\u001b[32m[I 2022-03-14 13:06:18,624]\u001b[0m Trial 37 finished with value: 0.01707739181475036 and parameters: {'feature_fraction': 0.616}. Best is trial 37 with value: 0.01707739181475036.\u001b[0m\n",
      "feature_fraction_stage2, val_score: 0.017076:  17%|######3                               | 1/6 [00:28<02:24, 28.95s/it]Found `num_iterations` in params. Will use it instead of argument\n",
      "Found `early_stopping_rounds` in params. Will use it instead of argument\n",
      "Using categorical_feature in Dataset.\n",
      "feature_fraction_stage2, val_score: 0.017076:  33%|############6                         | 2/6 [00:49<01:36, 24.23s/it]\u001b[32m[I 2022-03-14 13:06:39,584]\u001b[0m Trial 38 finished with value: 0.017081204727123128 and parameters: {'feature_fraction': 0.6479999999999999}. Best is trial 37 with value: 0.01707739181475036.\u001b[0m\n",
      "feature_fraction_stage2, val_score: 0.017076:  33%|############6                         | 2/6 [00:49<01:36, 24.23s/it]Found `num_iterations` in params. Will use it instead of argument\n",
      "Found `early_stopping_rounds` in params. Will use it instead of argument\n",
      "Using categorical_feature in Dataset.\n",
      "feature_fraction_stage2, val_score: 0.017076:  50%|###################                   | 3/6 [01:23<01:25, 28.39s/it]\u001b[32m[I 2022-03-14 13:07:12,898]\u001b[0m Trial 39 finished with value: 0.017078028995283247 and parameters: {'feature_fraction': 0.584}. Best is trial 37 with value: 0.01707739181475036.\u001b[0m\n"
     ]
    },
    {
     "name": "stderr",
     "output_type": "stream",
     "text": [
      "feature_fraction_stage2, val_score: 0.017076:  50%|###################                   | 3/6 [01:23<01:25, 28.39s/it]Found `num_iterations` in params. Will use it instead of argument\n",
      "Found `early_stopping_rounds` in params. Will use it instead of argument\n",
      "Using categorical_feature in Dataset.\n",
      "feature_fraction_stage2, val_score: 0.017076:  67%|#########################3            | 4/6 [01:57<01:01, 30.58s/it]\u001b[32m[I 2022-03-14 13:07:46,841]\u001b[0m Trial 40 finished with value: 0.017087489550103252 and parameters: {'feature_fraction': 0.552}. Best is trial 37 with value: 0.01707739181475036.\u001b[0m\n",
      "feature_fraction_stage2, val_score: 0.017076:  67%|#########################3            | 4/6 [01:57<01:01, 30.58s/it]Found `num_iterations` in params. Will use it instead of argument\n",
      "Found `early_stopping_rounds` in params. Will use it instead of argument\n",
      "Using categorical_feature in Dataset.\n",
      "feature_fraction_stage2, val_score: 0.017076:  83%|###############################6      | 5/6 [02:31<00:31, 31.78s/it]\u001b[32m[I 2022-03-14 13:08:20,755]\u001b[0m Trial 41 finished with value: 0.017083846222802485 and parameters: {'feature_fraction': 0.52}. Best is trial 37 with value: 0.01707739181475036.\u001b[0m\n",
      "feature_fraction_stage2, val_score: 0.017076:  83%|###############################6      | 5/6 [02:31<00:31, 31.78s/it]Found `num_iterations` in params. Will use it instead of argument\n",
      "Found `early_stopping_rounds` in params. Will use it instead of argument\n",
      "Using categorical_feature in Dataset.\n",
      "feature_fraction_stage2, val_score: 0.017076: 100%|######################################| 6/6 [02:50<00:00, 27.53s/it]\u001b[32m[I 2022-03-14 13:08:40,029]\u001b[0m Trial 42 finished with value: 0.01709156457609528 and parameters: {'feature_fraction': 0.6799999999999999}. Best is trial 37 with value: 0.01707739181475036.\u001b[0m\n",
      "feature_fraction_stage2, val_score: 0.017076: 100%|######################################| 6/6 [02:50<00:00, 28.39s/it]\n",
      "regularization_factors, val_score: 0.017076:   0%|                                              | 0/20 [00:00<?, ?it/s]Found `num_iterations` in params. Will use it instead of argument\n",
      "Found `early_stopping_rounds` in params. Will use it instead of argument\n",
      "Using categorical_feature in Dataset.\n",
      "regularization_factors, val_score: 0.017076:   5%|#9                                    | 1/20 [00:33<10:40, 33.69s/it]\u001b[32m[I 2022-03-14 13:09:13,729]\u001b[0m Trial 43 finished with value: 0.017075565504591654 and parameters: {'lambda_l1': 0.0027406699204505706, 'lambda_l2': 6.330964698632431e-07}. Best is trial 43 with value: 0.017075565504591654.\u001b[0m\n",
      "regularization_factors, val_score: 0.017076:   5%|#9                                    | 1/20 [00:33<10:40, 33.69s/it]Found `num_iterations` in params. Will use it instead of argument\n",
      "Found `early_stopping_rounds` in params. Will use it instead of argument\n",
      "Using categorical_feature in Dataset.\n",
      "regularization_factors, val_score: 0.017076:  10%|###8                                  | 2/20 [01:06<09:56, 33.12s/it]\u001b[32m[I 2022-03-14 13:09:46,441]\u001b[0m Trial 44 finished with value: 0.017077165283716562 and parameters: {'lambda_l1': 0.0006035983064111698, 'lambda_l2': 8.683457298598237e-07}. Best is trial 43 with value: 0.017075565504591654.\u001b[0m\n",
      "regularization_factors, val_score: 0.017076:  10%|###8                                  | 2/20 [01:06<09:56, 33.12s/it]Found `num_iterations` in params. Will use it instead of argument\n",
      "Found `early_stopping_rounds` in params. Will use it instead of argument\n",
      "Using categorical_feature in Dataset.\n",
      "regularization_factors, val_score: 0.017076:  15%|#####7                                | 3/20 [01:39<09:26, 33.33s/it]\u001b[32m[I 2022-03-14 13:10:20,062]\u001b[0m Trial 45 finished with value: 0.0170762247560589 and parameters: {'lambda_l1': 1.617626720254014e-08, 'lambda_l2': 1.4333901729970497e-06}. Best is trial 43 with value: 0.017075565504591654.\u001b[0m\n",
      "regularization_factors, val_score: 0.017076:  15%|#####7                                | 3/20 [01:40<09:26, 33.33s/it]Found `num_iterations` in params. Will use it instead of argument\n",
      "Found `early_stopping_rounds` in params. Will use it instead of argument\n",
      "Using categorical_feature in Dataset.\n",
      "regularization_factors, val_score: 0.017076:  20%|#######6                              | 4/20 [02:13<08:55, 33.47s/it]\u001b[32m[I 2022-03-14 13:10:53,715]\u001b[0m Trial 46 finished with value: 0.017076225633658876 and parameters: {'lambda_l1': 4.874463494821463e-08, 'lambda_l2': 1.2071471977874845e-07}. Best is trial 43 with value: 0.017075565504591654.\u001b[0m\n",
      "regularization_factors, val_score: 0.017076:  20%|#######6                              | 4/20 [02:13<08:55, 33.47s/it]Found `num_iterations` in params. Will use it instead of argument\n",
      "Found `early_stopping_rounds` in params. Will use it instead of argument\n",
      "Using categorical_feature in Dataset.\n",
      "regularization_factors, val_score: 0.017076:  25%|#########5                            | 5/20 [02:48<08:31, 34.07s/it]\u001b[32m[I 2022-03-14 13:11:28,861]\u001b[0m Trial 47 finished with value: 0.017076050010936032 and parameters: {'lambda_l1': 0.012118733074081917, 'lambda_l2': 3.5805116004936495}. Best is trial 43 with value: 0.017075565504591654.\u001b[0m\n",
      "regularization_factors, val_score: 0.017076:  25%|#########5                            | 5/20 [02:48<08:31, 34.07s/it]Found `num_iterations` in params. Will use it instead of argument\n",
      "Found `early_stopping_rounds` in params. Will use it instead of argument\n",
      "Using categorical_feature in Dataset.\n",
      "regularization_factors, val_score: 0.017075:  30%|###########4                          | 6/20 [03:22<07:54, 33.87s/it]\u001b[32m[I 2022-03-14 13:12:02,333]\u001b[0m Trial 48 finished with value: 0.017074954687523042 and parameters: {'lambda_l1': 3.539206904827733e-05, 'lambda_l2': 0.000345912541974977}. Best is trial 48 with value: 0.017074954687523042.\u001b[0m\n",
      "regularization_factors, val_score: 0.017075:  30%|###########4                          | 6/20 [03:22<07:54, 33.87s/it]Found `num_iterations` in params. Will use it instead of argument\n",
      "Found `early_stopping_rounds` in params. Will use it instead of argument\n",
      "Using categorical_feature in Dataset.\n",
      "regularization_factors, val_score: 0.017068:  35%|#############3                        | 7/20 [03:58<07:28, 34.49s/it]\u001b[32m[I 2022-03-14 13:12:38,141]\u001b[0m Trial 49 finished with value: 0.017068298044739937 and parameters: {'lambda_l1': 1.1093032982035371, 'lambda_l2': 4.021204823353312}. Best is trial 49 with value: 0.017068298044739937.\u001b[0m\n",
      "regularization_factors, val_score: 0.017068:  35%|#############3                        | 7/20 [03:58<07:28, 34.49s/it]Found `num_iterations` in params. Will use it instead of argument\n",
      "Found `early_stopping_rounds` in params. Will use it instead of argument\n",
      "Using categorical_feature in Dataset.\n",
      "regularization_factors, val_score: 0.017068:  40%|###############2                      | 8/20 [04:33<06:57, 34.77s/it]\u001b[32m[I 2022-03-14 13:13:13,463]\u001b[0m Trial 50 finished with value: 0.01709380274605292 and parameters: {'lambda_l1': 5.2617159166175094e-08, 'lambda_l2': 0.019786650092380967}. Best is trial 49 with value: 0.017068298044739937.\u001b[0m\n",
      "regularization_factors, val_score: 0.017068:  40%|###############2                      | 8/20 [04:33<06:57, 34.77s/it]Found `num_iterations` in params. Will use it instead of argument\n",
      "Found `early_stopping_rounds` in params. Will use it instead of argument\n",
      "Using categorical_feature in Dataset.\n",
      "regularization_factors, val_score: 0.017068:  45%|#################1                    | 9/20 [05:07<06:21, 34.70s/it]\u001b[32m[I 2022-03-14 13:13:48,028]\u001b[0m Trial 51 finished with value: 0.017073058736252276 and parameters: {'lambda_l1': 0.0003246537652225189, 'lambda_l2': 0.010534765213499721}. Best is trial 49 with value: 0.017068298044739937.\u001b[0m\n",
      "regularization_factors, val_score: 0.017068:  45%|#################1                    | 9/20 [05:07<06:21, 34.70s/it]Found `num_iterations` in params. Will use it instead of argument\n",
      "Found `early_stopping_rounds` in params. Will use it instead of argument\n",
      "Using categorical_feature in Dataset.\n",
      "regularization_factors, val_score: 0.017068:  50%|##################5                  | 10/20 [05:44<05:52, 35.21s/it]\u001b[32m[I 2022-03-14 13:14:24,379]\u001b[0m Trial 52 finished with value: 0.01707650302912171 and parameters: {'lambda_l1': 5.3681698617415184e-06, 'lambda_l2': 0.00010183301638928512}. Best is trial 49 with value: 0.017068298044739937.\u001b[0m\n"
     ]
    },
    {
     "name": "stderr",
     "output_type": "stream",
     "text": [
      "regularization_factors, val_score: 0.017068:  50%|##################5                  | 10/20 [05:44<05:52, 35.21s/it]Found `num_iterations` in params. Will use it instead of argument\n",
      "Found `early_stopping_rounds` in params. Will use it instead of argument\n",
      "Using categorical_feature in Dataset.\n",
      "regularization_factors, val_score: 0.017051:  55%|####################3                | 11/20 [06:31<05:49, 38.80s/it]\u001b[32m[I 2022-03-14 13:15:11,330]\u001b[0m Trial 53 finished with value: 0.017051261537652063 and parameters: {'lambda_l1': 8.81745426775142, 'lambda_l2': 6.046875114537214}. Best is trial 53 with value: 0.017051261537652063.\u001b[0m\n",
      "regularization_factors, val_score: 0.017051:  55%|####################3                | 11/20 [06:31<05:49, 38.80s/it]Found `num_iterations` in params. Will use it instead of argument\n",
      "Found `early_stopping_rounds` in params. Will use it instead of argument\n",
      "Using categorical_feature in Dataset.\n",
      "regularization_factors, val_score: 0.017051:  60%|######################2              | 12/20 [07:15<05:23, 40.45s/it]\u001b[32m[I 2022-03-14 13:15:55,527]\u001b[0m Trial 54 finished with value: 0.017053415488768306 and parameters: {'lambda_l1': 8.768750828785667, 'lambda_l2': 9.360511533178855}. Best is trial 53 with value: 0.017051261537652063.\u001b[0m\n",
      "regularization_factors, val_score: 0.017051:  60%|######################2              | 12/20 [07:15<05:23, 40.45s/it]Found `num_iterations` in params. Will use it instead of argument\n",
      "Found `early_stopping_rounds` in params. Will use it instead of argument\n",
      "Using categorical_feature in Dataset.\n",
      "regularization_factors, val_score: 0.017049:  65%|########################             | 13/20 [07:57<04:45, 40.84s/it]\u001b[32m[I 2022-03-14 13:16:37,284]\u001b[0m Trial 55 finished with value: 0.01704868713452786 and parameters: {'lambda_l1': 6.644139018121482, 'lambda_l2': 0.1812142938244111}. Best is trial 55 with value: 0.01704868713452786.\u001b[0m\n",
      "regularization_factors, val_score: 0.017049:  65%|########################             | 13/20 [07:57<04:45, 40.84s/it]Found `num_iterations` in params. Will use it instead of argument\n",
      "Found `early_stopping_rounds` in params. Will use it instead of argument\n",
      "Using categorical_feature in Dataset.\n",
      "regularization_factors, val_score: 0.017049:  70%|#########################9           | 14/20 [08:31<03:53, 38.91s/it]\u001b[32m[I 2022-03-14 13:17:11,726]\u001b[0m Trial 56 finished with value: 0.01707806319872716 and parameters: {'lambda_l1': 0.10174342176041974, 'lambda_l2': 0.18973611398931042}. Best is trial 55 with value: 0.01704868713452786.\u001b[0m\n",
      "regularization_factors, val_score: 0.017049:  70%|#########################9           | 14/20 [08:31<03:53, 38.91s/it]Found `num_iterations` in params. Will use it instead of argument\n",
      "Found `early_stopping_rounds` in params. Will use it instead of argument\n",
      "Using categorical_feature in Dataset.\n",
      "regularization_factors, val_score: 0.017049:  75%|###########################7         | 15/20 [09:17<03:25, 41.13s/it]\u001b[32m[I 2022-03-14 13:17:58,016]\u001b[0m Trial 57 finished with value: 0.017050401192954753 and parameters: {'lambda_l1': 8.842871022930773, 'lambda_l2': 0.1393462987725728}. Best is trial 55 with value: 0.01704868713452786.\u001b[0m\n",
      "regularization_factors, val_score: 0.017049:  75%|###########################7         | 15/20 [09:17<03:25, 41.13s/it]Found `num_iterations` in params. Will use it instead of argument\n",
      "Found `early_stopping_rounds` in params. Will use it instead of argument\n",
      "Using categorical_feature in Dataset.\n",
      "regularization_factors, val_score: 0.017049:  80%|#############################6       | 16/20 [09:52<02:36, 39.20s/it]\u001b[32m[I 2022-03-14 13:18:32,737]\u001b[0m Trial 58 finished with value: 0.01708224411918448 and parameters: {'lambda_l1': 0.15065858193674753, 'lambda_l2': 0.16039836868873683}. Best is trial 55 with value: 0.01704868713452786.\u001b[0m\n",
      "regularization_factors, val_score: 0.017049:  80%|#############################6       | 16/20 [09:52<02:36, 39.20s/it]Found `num_iterations` in params. Will use it instead of argument\n",
      "Found `early_stopping_rounds` in params. Will use it instead of argument\n",
      "Using categorical_feature in Dataset.\n",
      "regularization_factors, val_score: 0.017049:  85%|###############################4     | 17/20 [10:28<01:54, 38.13s/it]\u001b[32m[I 2022-03-14 13:19:08,378]\u001b[0m Trial 59 finished with value: 0.01707745169407696 and parameters: {'lambda_l1': 0.4035451015054537, 'lambda_l2': 0.0006496566556706305}. Best is trial 55 with value: 0.01704868713452786.\u001b[0m\n",
      "regularization_factors, val_score: 0.017049:  85%|###############################4     | 17/20 [10:28<01:54, 38.13s/it]Found `num_iterations` in params. Will use it instead of argument\n",
      "Found `early_stopping_rounds` in params. Will use it instead of argument\n",
      "Using categorical_feature in Dataset.\n",
      "regularization_factors, val_score: 0.017049:  90%|#################################3   | 18/20 [11:02<01:13, 37.00s/it]\u001b[32m[I 2022-03-14 13:19:42,726]\u001b[0m Trial 60 finished with value: 0.01707569771951615 and parameters: {'lambda_l1': 0.023097923104686623, 'lambda_l2': 0.2970754694241154}. Best is trial 55 with value: 0.01704868713452786.\u001b[0m\n",
      "regularization_factors, val_score: 0.017049:  90%|#################################3   | 18/20 [11:02<01:13, 37.00s/it]Found `num_iterations` in params. Will use it instead of argument\n",
      "Found `early_stopping_rounds` in params. Will use it instead of argument\n",
      "Using categorical_feature in Dataset.\n",
      "regularization_factors, val_score: 0.017049:  95%|###################################1 | 19/20 [11:39<00:36, 36.82s/it]\u001b[32m[I 2022-03-14 13:20:19,141]\u001b[0m Trial 61 finished with value: 0.017074346264319466 and parameters: {'lambda_l1': 1.550871552936672, 'lambda_l2': 0.007520880361444012}. Best is trial 55 with value: 0.01704868713452786.\u001b[0m\n",
      "regularization_factors, val_score: 0.017049:  95%|###################################1 | 19/20 [11:39<00:36, 36.82s/it]Found `num_iterations` in params. Will use it instead of argument\n",
      "Found `early_stopping_rounds` in params. Will use it instead of argument\n",
      "Using categorical_feature in Dataset.\n",
      "regularization_factors, val_score: 0.017049: 100%|#####################################| 20/20 [12:15<00:00, 36.65s/it]\u001b[32m[I 2022-03-14 13:20:55,381]\u001b[0m Trial 62 finished with value: 0.01707650587931344 and parameters: {'lambda_l1': 7.882730553658504e-06, 'lambda_l2': 9.713781335791298e-05}. Best is trial 55 with value: 0.01704868713452786.\u001b[0m\n",
      "regularization_factors, val_score: 0.017049: 100%|#####################################| 20/20 [12:15<00:00, 36.77s/it]\n",
      "min_data_in_leaf, val_score: 0.017049:   0%|                                                     | 0/5 [00:00<?, ?it/s]Found `num_iterations` in params. Will use it instead of argument\n",
      "Found `early_stopping_rounds` in params. Will use it instead of argument\n",
      "Using categorical_feature in Dataset.\n",
      "min_data_in_leaf, val_score: 0.017049:  20%|#########                                    | 1/5 [00:38<02:34, 38.52s/it]\u001b[32m[I 2022-03-14 13:21:33,905]\u001b[0m Trial 63 finished with value: 0.01704868713452786 and parameters: {'min_child_samples': 25}. Best is trial 63 with value: 0.01704868713452786.\u001b[0m\n",
      "min_data_in_leaf, val_score: 0.017049:  20%|#########                                    | 1/5 [00:38<02:34, 38.52s/it]Found `num_iterations` in params. Will use it instead of argument\n",
      "Found `early_stopping_rounds` in params. Will use it instead of argument\n",
      "Using categorical_feature in Dataset.\n",
      "min_data_in_leaf, val_score: 0.017049:  40%|##################                           | 2/5 [01:17<01:55, 38.60s/it]\u001b[32m[I 2022-03-14 13:22:12,561]\u001b[0m Trial 64 finished with value: 0.01704868713452786 and parameters: {'min_child_samples': 10}. Best is trial 63 with value: 0.01704868713452786.\u001b[0m\n",
      "min_data_in_leaf, val_score: 0.017049:  40%|##################                           | 2/5 [01:17<01:55, 38.60s/it]Found `num_iterations` in params. Will use it instead of argument\n",
      "Found `early_stopping_rounds` in params. Will use it instead of argument\n",
      "Using categorical_feature in Dataset.\n",
      "min_data_in_leaf, val_score: 0.017049:  60%|###########################                  | 3/5 [02:00<01:21, 40.88s/it]\u001b[32m[I 2022-03-14 13:22:56,155]\u001b[0m Trial 65 finished with value: 0.01704868713452786 and parameters: {'min_child_samples': 5}. Best is trial 63 with value: 0.01704868713452786.\u001b[0m\n"
     ]
    },
    {
     "name": "stderr",
     "output_type": "stream",
     "text": [
      "min_data_in_leaf, val_score: 0.017049:  60%|###########################                  | 3/5 [02:00<01:21, 40.88s/it]Found `num_iterations` in params. Will use it instead of argument\n",
      "Found `early_stopping_rounds` in params. Will use it instead of argument\n",
      "Using categorical_feature in Dataset.\n",
      "min_data_in_leaf, val_score: 0.017049:  80%|####################################         | 4/5 [02:39<00:39, 39.95s/it]\u001b[32m[I 2022-03-14 13:23:34,691]\u001b[0m Trial 66 finished with value: 0.01704868713452786 and parameters: {'min_child_samples': 100}. Best is trial 63 with value: 0.01704868713452786.\u001b[0m\n",
      "min_data_in_leaf, val_score: 0.017049:  80%|####################################         | 4/5 [02:39<00:39, 39.95s/it]Found `num_iterations` in params. Will use it instead of argument\n",
      "Found `early_stopping_rounds` in params. Will use it instead of argument\n",
      "Using categorical_feature in Dataset.\n",
      "min_data_in_leaf, val_score: 0.017049: 100%|#############################################| 5/5 [03:17<00:00, 39.49s/it]\u001b[32m[I 2022-03-14 13:24:13,365]\u001b[0m Trial 67 finished with value: 0.01704868713452786 and parameters: {'min_child_samples': 50}. Best is trial 63 with value: 0.01704868713452786.\u001b[0m\n",
      "min_data_in_leaf, val_score: 0.017049: 100%|#############################################| 5/5 [03:17<00:00, 39.60s/it]"
     ]
    },
    {
     "name": "stdout",
     "output_type": "stream",
     "text": [
      "HP optimization took :  2076.6848204135895  seconds\n"
     ]
    },
    {
     "name": "stderr",
     "output_type": "stream",
     "text": [
      "\n"
     ]
    }
   ],
   "source": [
    "params = default_params.copy()\n",
    "\n",
    "study_tuner = optuna.create_study(direction='minimize')\n",
    "\n",
    "CLX_tuner = lgbm_integration.LightGBMTunerCV(params, \n",
    "                            lgbm_train_data, \n",
    "                            study=study_tuner,\n",
    "                            nfold=_NFLOD,\n",
    "                            stratified = _STRATIFIED,\n",
    "                            shuffle=_SHUFFLE, \n",
    "                            verbose_eval=False,                            \n",
    "                            time_budget=14400, # Time budget of 4 hours, we will not really need it <--#change this to lower value for implementation\n",
    "                            callbacks=[])\n",
    "s = time.time()\n",
    "CLX_tuner.run()\n",
    "e = time.time()\n",
    "print('HP optimization took : ', e-s ,' seconds')"
   ]
  },
  {
   "cell_type": "markdown",
   "id": "c2ae65f0",
   "metadata": {},
   "source": [
    "**Get the model corresponding to the optimal HP**"
   ]
  },
  {
   "cell_type": "code",
   "execution_count": 23,
   "id": "d6b243b1",
   "metadata": {
    "ExecuteTime": {
     "end_time": "2022-03-14T12:25:03.253088Z",
     "start_time": "2022-03-14T12:24:13.376275Z"
    }
   },
   "outputs": [
    {
     "name": "stderr",
     "output_type": "stream",
     "text": [
      "Found `num_iterations` in params. Will use it instead of argument\n",
      "Found `early_stopping_rounds` in params. Will use it instead of argument\n",
      "Using categorical_feature in Dataset.\n"
     ]
    },
    {
     "name": "stdout",
     "output_type": "stream",
     "text": [
      "{'objective': 'multiclass', 'metric': 'multi_logloss', 'num_class': 3, 'early_stopping_rounds': 100, 'num_iterations': 10000, 'max_bin': 20, 'seed': 1234, 'verbose': -1, 'n_jobs': -1, 'feature_pre_filter': False, 'lambda_l1': 6.644139018121482, 'lambda_l2': 0.1812142938244111, 'num_leaves': 2, 'feature_fraction': 0.6, 'bagging_fraction': 0.9271612717967527, 'bagging_freq': 4, 'min_child_samples': 20}\n",
      "0.01704868713452786\n"
     ]
    },
    {
     "name": "stderr",
     "output_type": "stream",
     "text": [
      "Found `num_iterations` in params. Will use it instead of argument\n",
      "Found `early_stopping_rounds` in params. Will use it instead of argument\n",
      "Using categorical_feature in Dataset.\n"
     ]
    }
   ],
   "source": [
    "print(CLX_tuner.best_params)\n",
    "print(CLX_tuner.best_score)\n",
    "model_CLX , hist  = LGBM_trained_booster_CV(CLX_tuner.best_params, lgbm_train_data)"
   ]
  },
  {
   "cell_type": "markdown",
   "id": "6b4b4a13",
   "metadata": {
    "ExecuteTime": {
     "end_time": "2022-03-14T10:34:27.599859Z",
     "start_time": "2022-03-14T10:34:27.591858Z"
    }
   },
   "source": [
    "**(Optional) show the learning curve for optimal model**"
   ]
  },
  {
   "cell_type": "code",
   "execution_count": 24,
   "id": "2264fc4e",
   "metadata": {
    "ExecuteTime": {
     "end_time": "2022-03-14T12:25:03.380384Z",
     "start_time": "2022-03-14T12:25:03.254088Z"
    }
   },
   "outputs": [
    {
     "data": {
      "image/png": "[encoded data removed]",
      "text/plain": [
       "<Figure size 432x288 with 1 Axes>"
      ]
     },
     "metadata": {
      "needs_background": "light"
     },
     "output_type": "display_data"
    }
   ],
   "source": [
    "H = pd.DataFrame()\n",
    "\n",
    "H['mean'] = hist['multi_logloss-mean']\n",
    "H['std'] = hist['multi_logloss-stdv']\n",
    "H['upper'] = H['mean'] + H['std']\n",
    "H['lower'] = H['mean'] - H['std']\n",
    "plt.xlabel('N rounds', fontsize = 15)\n",
    "plt.ylabel('multi-logloss (CV)', fontsize = 15)\n",
    "plt.plot(H['mean'])\n",
    "plt.fill_between(H.index, H['lower'], H['upper'], alpha = 0.25)\n",
    "plt.show()"
   ]
  },
  {
   "cell_type": "markdown",
   "id": "34c9614d",
   "metadata": {},
   "source": [
    "#### Save CLX model"
   ]
  },
  {
   "cell_type": "code",
   "execution_count": 25,
   "id": "2c21d189",
   "metadata": {
    "ExecuteTime": {
     "end_time": "2022-03-14T12:25:03.428361Z",
     "start_time": "2022-03-14T12:25:03.381384Z"
    }
   },
   "outputs": [
    {
     "data": {
      "text/plain": [
       "<lightgbm.basic.Booster at 0x1157ff7fd00>"
      ]
     },
     "execution_count": 25,
     "metadata": {},
     "output_type": "execute_result"
    }
   ],
   "source": [
    "model_CLX.save_model(PATH_OBJECTS + \"model_CLX_CG\")"
   ]
  },
  {
   "cell_type": "markdown",
   "id": "da5d2108",
   "metadata": {},
   "source": [
    "### Save test data"
   ]
  },
  {
   "cell_type": "markdown",
   "id": "47f1abb0",
   "metadata": {},
   "source": [
    "**Optional : use test data as the source data for the uplift anf cutoff script (PHASE 2)**\n",
    "\n",
    "**If not, never use the same, or overlapping,  data for PHASE II and for model training ( this phase : PHASE I)**"
   ]
  },
  {
   "cell_type": "code",
   "execution_count": 26,
   "id": "8bdf3082",
   "metadata": {
    "ExecuteTime": {
     "end_time": "2022-03-14T12:25:24.925203Z",
     "start_time": "2022-03-14T12:25:03.429362Z"
    }
   },
   "outputs": [],
   "source": [
    "df = pd.concat([test_CCX, test_CLX], axis = 0)\n",
    "df = df.reset_index(drop = True)\n",
    "df.to_csv(PATH_DATA + 'PHASE2.csv', encoding = 'utf-8')"
   ]
  },
  {
   "cell_type": "markdown",
   "id": "ec03f891",
   "metadata": {},
   "source": [
    "## Performances on test set"
   ]
  },
  {
   "cell_type": "markdown",
   "id": "63d223a9",
   "metadata": {},
   "source": [
    "### Load models"
   ]
  },
  {
   "cell_type": "code",
   "execution_count": 27,
   "id": "b714a0cf",
   "metadata": {
    "ExecuteTime": {
     "end_time": "2022-03-14T12:25:24.973110Z",
     "start_time": "2022-03-14T12:25:24.926203Z"
    }
   },
   "outputs": [],
   "source": [
    "model_CCX = lgb.Booster(model_file= PATH_OBJECTS + \"model_CCX_CG\")\n",
    "model_CLX = lgb.Booster(model_file= PATH_OBJECTS + \"model_CLX_CG\")"
   ]
  },
  {
   "cell_type": "code",
   "execution_count": 28,
   "id": "84eb1b2f",
   "metadata": {
    "ExecuteTime": {
     "end_time": "2022-03-14T12:25:24.989114Z",
     "start_time": "2022-03-14T12:25:24.974111Z"
    }
   },
   "outputs": [],
   "source": [
    "def binarize(x, label):\n",
    "    if x == label:\n",
    "        binary =1\n",
    "    else:\n",
    "        binary =0\n",
    "    return binary\n",
    "\n",
    "\n",
    "def ROC_calc(y, X, W, label, color, _linestyle='-', _linewidth = 2 ):\n",
    "    fpr, tpr, roc_auc = dict(), dict(), dict()\n",
    "    fpr, tpr, thresholds = metrics.roc_curve(y, X,sample_weight= W)\n",
    "    #roc_auc = metrics.auc(fpr, tpr,reorder=True)\n",
    "    roc_auc = metrics.auc(fpr, tpr)\n",
    "    plt.plot(fpr, tpr, color=color, label='%s (Gini = %0.5f)' % (label, 2*roc_auc-1), linestyle=_linestyle, linewidth = _linewidth , alpha=.6)\n",
    "    print('%s, %0.5f, %0.6f' % (label,2*roc_auc-1, metrics.mean_squared_error(y, X, sample_weight= W)))"
   ]
  },
  {
   "cell_type": "code",
   "execution_count": 29,
   "id": "9870fa0c",
   "metadata": {
    "ExecuteTime": {
     "end_time": "2022-03-14T12:25:26.055621Z",
     "start_time": "2022-03-14T12:25:24.990114Z"
    }
   },
   "outputs": [],
   "source": [
    "df_CCX = test_CCX.copy()\n",
    "df_CCX_predprob = model_CCX.predict(df_CCX[predictors], num_iteration = model_CCX.best_iteration)\n",
    "\n",
    "df_CLX = test_CLX.copy()\n",
    "df_CLX_predprob = model_CLX.predict(df_CLX[predictors], num_iteration = model_CLX.best_iteration)"
   ]
  },
  {
   "cell_type": "code",
   "execution_count": 30,
   "id": "7c906301",
   "metadata": {
    "ExecuteTime": {
     "end_time": "2022-03-14T12:25:27.375313Z",
     "start_time": "2022-03-14T12:25:26.056621Z"
    }
   },
   "outputs": [
    {
     "name": "stdout",
     "output_type": "stream",
     "text": [
      "Cash_Card(CCX), 0.55581, 0.003324\n",
      "Cash_Card(CLX), 0.49103, 0.002481\n"
     ]
    },
    {
     "data": {
      "image/png": "[encoded data removed]",
      "text/plain": [
       "<Figure size 720x504 with 1 Axes>"
      ]
     },
     "metadata": {
      "needs_background": "light"
     },
     "output_type": "display_data"
    },
    {
     "name": "stdout",
     "output_type": "stream",
     "text": [
      "Cash(CCX), 0.42142, 0.001446\n",
      "Cash(CLX), 0.48071, 0.002307\n"
     ]
    },
    {
     "data": {
      "image/png": "[encoded data removed]",
      "text/plain": [
       "<Figure size 720x504 with 1 Axes>"
      ]
     },
     "metadata": {
      "needs_background": "light"
     },
     "output_type": "display_data"
    },
    {
     "name": "stdout",
     "output_type": "stream",
     "text": [
      "Card(CCX), 0.66286, 0.001892\n",
      "Card(CLX), 0.67164, 0.000177\n"
     ]
    },
    {
     "data": {
      "image/png": "[encoded data removed]",
      "text/plain": [
       "<Figure size 720x504 with 1 Axes>"
      ]
     },
     "metadata": {
      "needs_background": "light"
     },
     "output_type": "display_data"
    }
   ],
   "source": [
    "def label(response):\n",
    "    if response == 'none': \n",
    "        c = 0\n",
    "    if response == 'Cash':\n",
    "        c = 1\n",
    "    if response == 'Card':\n",
    "        c = 2\n",
    "    return c\n",
    "\n",
    "#[]\n",
    "plt.figure(figsize = (10,7))\n",
    "\n",
    "df_CCX['binary'] = df_CCX[col_target].apply(lambda x: 1 if (x == 1) or (x == 2) else 0)\n",
    "df_CLX['binary'] = df_CLX[col_target].apply(lambda x: 1 if (x == 1) or (x == 2) else 0)\n",
    "\n",
    "plt.plot([0, 1], [0, 1], linestyle='--', color='r', linewidth = 2, label='Random (area = 0.5)')\n",
    "ROC_calc(df_CCX['binary'], df_CCX_predprob[:,label('Cash')] + df_CCX_predprob[:,label('Card')]  , df_CCX[col_weight], 'Cash_Card(CCX)' , 'green', _linestyle='-', _linewidth = 1)\n",
    "ROC_calc(df_CLX['binary'], df_CLX_predprob[:,label('Cash')] + df_CLX_predprob[:,label('Card')] , df_CLX[col_weight], 'Cash_Card(CLX)' , 'blue', _linestyle='-', _linewidth = 1)\n",
    "plt.legend()\n",
    "\n",
    "plt.savefig(PATH_RESULTS +'either.png')\n",
    "plt.show()  \n",
    "\n",
    "\n",
    "for response in ['Cash', 'Card']:\n",
    "    \n",
    "    plt.figure(figsize = (10,7)) \n",
    "    \n",
    "    df_CCX['binary'] = df_CCX[col_target].apply(lambda x : binarize(x,label(response)))\n",
    "    df_CLX['binary'] = df_CLX[col_target].apply(lambda x : binarize(x,label(response)))\n",
    "    plt.plot([0, 1], [0, 1], linestyle='--', color='r', linewidth = 2, label='Random (area = 0.5)')\n",
    "    ROC_calc(df_CCX['binary'], df_CCX_predprob[:,label(response)] , df_CCX[col_weight], response + '(CCX)' , 'green', _linestyle='-', _linewidth = 1)\n",
    "    ROC_calc(df_CLX['binary'], df_CLX_predprob[:,label(response)] , df_CLX[col_weight], response + '(CLX)' , 'blue', _linestyle='-', _linewidth = 1)\n",
    "    plt.legend()\n",
    "\n",
    "    plt.savefig(PATH_RESULTS + response +'.png')\n",
    "    plt.show()  \n"
   ]
  },
  {
   "cell_type": "code",
   "execution_count": null,
   "id": "3a646be0",
   "metadata": {},
   "outputs": [],
   "source": []
  }
 ],
 "metadata": {
  "kernelspec": {
   "display_name": "Python 3",
   "language": "python",
   "name": "python3"
  },
  "language_info": {
   "codemirror_mode": {
    "name": "ipython",
    "version": 3
   },
   "file_extension": ".py",
   "mimetype": "text/x-python",
   "name": "python",
   "nbconvert_exporter": "python",
   "pygments_lexer": "ipython3",
   "version": "3.8.8"
  },
  "toc": {
   "base_numbering": 1,
   "nav_menu": {},
   "number_sections": true,
   "sideBar": true,
   "skip_h1_title": false,
   "title_cell": "Table of Contents",
   "title_sidebar": "Contents",
   "toc_cell": false,
   "toc_position": {
    "height": "calc(100% - 180px)",
    "left": "10px",
    "top": "150px",
    "width": "384px"
   },
   "toc_section_display": true,
   "toc_window_display": true
  }
 },
 "nbformat": 4,
 "nbformat_minor": 5
}
